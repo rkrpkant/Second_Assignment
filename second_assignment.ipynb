{
  "cells": [
    {
      "cell_type": "code",
      "source": [
        "# Q1. Explain the importance of Functions.\n",
        "\n",
        "# Ans. Functions are a fundamental concept in programming and play a vital role in writing efficient, maintainable, and reusable code.\n",
        "#  Here are some reasons why functions are important:\n",
        "\n",
        "# 1. Code Reusability-\n",
        "# Functions allow you to reuse code without having to rewrite it. Once a function is defined,\n",
        "# it can be called multiple times with different inputs, saving effort and reducing redundancy.\n",
        "\n",
        "# 2. Modularity-\n",
        "# Functions break down a program into smaller, manageable chunks. Each function handles a specific task,\n",
        "# making it easier to understand, debug, and maintain the code.\n",
        "\n",
        "# 3. Improved Readability-\n",
        "# By using functions with descriptive names, code becomes more self-explanatory. For example,\n",
        "# calculate_total() is easier to understand than a block of code that calculates the total.\n",
        "\n",
        "# 4. Avoiding Repetition (DRY Principle)-\n",
        "# Functions help adhere to the DRY (Don't Repeat Yourself) principle by consolidating repeated logic into a single place,\n",
        "# reducing errors and effort when updates are needed.\n",
        "\n",
        "# 5. Easier Debugging-\n",
        "# Since functions are self-contained units, debugging becomes more straightforward.\n",
        "# You can test each function individually to ensure its correctness.\n",
        "\n",
        "# 6. Scalability-\n",
        "# Functions make it easier to scale applications by enabling the integration of additional functionality.\n",
        "#  You can add more functions without affecting the existing ones significantly.\n",
        "\n",
        "# 7. Parameterization and Customization-\n",
        "# Functions accept parameters, allowing you to customize their behavior for specific use cases.\n",
        "# For instance, a sorting function can sort lists in ascending or descending order based on a parameter.\n",
        "\n",
        "# 8. Encapsulation-\n",
        "# Functions encapsulate logic and details, exposing only the necessary inputs and outputs.\n",
        "# This abstraction hides complexity and makes the code more modular.\n",
        "\n",
        "# 9. Facilitates Collaboration-\n",
        "# In team environments, functions allow different team members to work on separate parts of a program without interfering with each other's code.\n",
        "\n",
        "# 10. Improved Performance with Recursion-\n",
        "# Functions can call themselves (recursion) to solve complex problems like traversing trees or performing divide-and-conquer algorithms,\n",
        "# making them a powerful tool in problem-solving."
      ],
      "metadata": {
        "id": "VkqN9A3WF5r-"
      },
      "execution_count": null,
      "outputs": []
    },
    {
      "cell_type": "code",
      "execution_count": 25,
      "metadata": {
        "id": "7b6t0D4kHpkA",
        "colab": {
          "base_uri": "https://localhost:8080/"
        },
        "outputId": "0bc9af59-2673-4ada-f71d-89d7c2291f4b"
      },
      "outputs": [
        {
          "output_type": "stream",
          "name": "stdout",
          "text": [
            "Hello, Ajay! Welcome to the class.\n"
          ]
        }
      ],
      "source": [
        "# Q2. Write a basic function to greet students.\n",
        "def greet_student(name):\n",
        "\n",
        "    print(f\"Hello, {name}! Welcome to the class.\")\n",
        "\n",
        "# Example usage:\n",
        "greet_student(\"Ajay\")  # Output: Hello, Ajay! Welcome to the class.\n",
        "\n",
        "\n",
        "\n"
      ]
    },
    {
      "cell_type": "code",
      "source": [
        "# Q3.What is the difference between print and return statements.\n",
        "\n",
        "\n",
        "# Ans. The `print()` function and the `return` statement serve different purposes in Python functions:\n",
        "\n",
        "# `print()`\n",
        "# - Displays output to the console (or standard output).\n",
        "# - Does not affect the function's execution flow.\n",
        "# - Can be used multiple times within a function.\n",
        "# - Primarily for displaying information to the user during program execution.\n",
        "# - Returns `None` implicitly.\n",
        "\n",
        "\n",
        "# `return`\n",
        "# - Sends a value back to the caller of the function.\n",
        "# - Terminates the execution of the function immediately.\n",
        "# - Can only be used once in a function (or not at all if you have no return statement).\n",
        "# - Used to provide a result from a function.\n",
        "# - If no value is explicitly returned, it returns `None` implicitly.\n",
        "\n",
        "\n",
        "# Example to demonstrate the difference:\n",
        "def print_example(x, y):\n",
        "    print(x + y)  # Prints the sum to the console\n",
        "\n",
        "def return_example(x, y):\n",
        "    return x + y  # Returns the sum to the caller\n",
        "\n",
        "# Usage\n",
        "result_print = print_example(5, 3)\n",
        "print(f\"The value of result_print is: {result_print}\") # Output: 8 followed by None\n",
        "\n",
        "result_return = return_example(5, 3)\n",
        "print(f\"The value of result_return is: {result_return}\") # Output: 8\n"
      ],
      "metadata": {
        "colab": {
          "base_uri": "https://localhost:8080/"
        },
        "id": "T61saDjjHjpF",
        "outputId": "d80c6c71-0ede-42e1-fd09-7e667db05075"
      },
      "execution_count": 2,
      "outputs": [
        {
          "output_type": "stream",
          "name": "stdout",
          "text": [
            "8\n",
            "The value of result_print is: None\n",
            "The value of result_return is: 8\n"
          ]
        }
      ]
    },
    {
      "cell_type": "code",
      "execution_count": null,
      "metadata": {
        "colab": {
          "base_uri": "https://localhost:8080/"
        },
        "id": "CtUjTZbZ5-UX",
        "outputId": "2752b28d-59b3-42c3-ed37-fd946b87190b"
      },
      "outputs": [
        {
          "name": "stdout",
          "output_type": "stream",
          "text": [
            "1\n",
            "2\n",
            "3\n",
            "a: 1\n",
            "b: 2\n",
            "c: 3\n"
          ]
        }
      ],
      "source": [
        "# Q4. What are *args and **kwargs?\n",
        "\n",
        "# Ans. In Python, *args and **kwargs are used to pass a variable number of arguments to a function.\n",
        "\n",
        "# *args (Non-keyword arguments): This allows you to pass a variable number of non-keyword arguments to a function.\n",
        "# It collects all the positional arguments into a tuple.\n",
        "\n",
        "# Example.\n",
        "def my_func(*args):\n",
        "    for arg in args:\n",
        "        print(arg)\n",
        "\n",
        "my_func(1, 2, 3)  # Output: 1, 2, 3\n",
        "\n",
        "\n",
        "\n",
        "# **kwargs (Keyword arguments): This allows you to pass a variable number of keyword arguments (i.e., named arguments) to a function.\n",
        "# It collects them into a dictionary.\n",
        "# Example.\n",
        "def my_func(**kwargs):\n",
        "    for key, value in kwargs.items():\n",
        "        print(f\"{key}: {value}\")\n",
        "\n",
        "my_func(a=1, b=2, c=3)  # Output: a: 1, b: 2, c: 3"
      ]
    },
    {
      "cell_type": "code",
      "execution_count": null,
      "metadata": {
        "colab": {
          "base_uri": "https://localhost:8080/"
        },
        "id": "yXzzN0Lp6VBy",
        "outputId": "8b15e888-1b35-4bd8-ddaa-c25a3169986d"
      },
      "outputs": [
        {
          "name": "stdout",
          "output_type": "stream",
          "text": [
            "0\n",
            "1\n",
            "2\n",
            "3\n",
            "4\n"
          ]
        }
      ],
      "source": [
        "# Q5. Explain the iterator function.\n",
        "\n",
        "# Ans. An iterator in Python is an object that implements two key methods: __iter__() and __next__().\n",
        "\n",
        "# 1. __iter__():\n",
        "# This method is called when an iterator is created.\n",
        "# It returns the iterator object itself.\n",
        "# This is required for an object to be used in a loop, like for loops.\n",
        "# 2. __next__():\n",
        "# This method returns the next value in the sequence when called.\n",
        "# Once the sequence is exhausted, it raises a StopIteration exception to signal that there are no more items.\n",
        "class MyIterator:\n",
        "    def __init__(self, start, end):\n",
        "        self.current = start\n",
        "        self.end = end\n",
        "\n",
        "    def __iter__(self):\n",
        "        return self  # Return the iterator object\n",
        "\n",
        "    def __next__(self):\n",
        "        if self.current >= self.end:\n",
        "            raise StopIteration  # Stop iteration when the end is reached\n",
        "        self.current += 1\n",
        "        return self.current - 1  # Return the current value\n",
        "\n",
        "# Create an instance of the iterator\n",
        "my_iter = MyIterator(0, 5)\n",
        "\n",
        "# Use the iterator\n",
        "for number in my_iter:\n",
        "    print(number)\n",
        "\n"
      ]
    },
    {
      "cell_type": "code",
      "execution_count": 3,
      "metadata": {
        "colab": {
          "base_uri": "https://localhost:8080/"
        },
        "id": "wqmdcJxr6elR",
        "outputId": "40a266a8-3bfb-46ff-a29b-e93ceee5ad31"
      },
      "outputs": [
        {
          "output_type": "stream",
          "name": "stdout",
          "text": [
            "1\n",
            "4\n",
            "9\n",
            "16\n",
            "25\n"
          ]
        }
      ],
      "source": [
        "# Q6. Write a code that generates the squares of numbers from 1 to n using a generator.\n",
        "\n",
        "# Ans.\n",
        "\n",
        "def generate_squares(n):\n",
        "    for i in range(1, n+1):\n",
        "        yield i**2\n",
        "\n",
        "# Usage:\n",
        "n = 5\n",
        "squares = generate_squares(n)\n",
        "for square in squares:\n",
        "    print(square)\n"
      ]
    },
    {
      "cell_type": "code",
      "execution_count": 4,
      "metadata": {
        "colab": {
          "base_uri": "https://localhost:8080/"
        },
        "id": "GSHUH_Ml6n-p",
        "outputId": "80ee3156-db4c-4041-95de-8629fe42476c"
      },
      "outputs": [
        {
          "output_type": "stream",
          "name": "stdout",
          "text": [
            "1\n",
            "2\n",
            "3\n",
            "4\n",
            "5\n",
            "6\n",
            "7\n",
            "8\n",
            "9\n",
            "11\n",
            "22\n",
            "33\n",
            "44\n",
            "55\n",
            "66\n",
            "77\n",
            "88\n",
            "99\n"
          ]
        }
      ],
      "source": [
        "# Q7. Write a code that generates palindromic numbers up to n using a generator.\n",
        "\n",
        "# Ans.\n",
        "\n",
        "def generate_palindromes(n):\n",
        "    for i in range(1, n+1):\n",
        "        if str(i) == str(i)[::-1]:\n",
        "            yield i\n",
        "\n",
        "# Usage:\n",
        "n = 100\n",
        "palindromes = generate_palindromes(n)\n",
        "for palindrome in palindromes:\n",
        "    print(palindrome)\n"
      ]
    },
    {
      "cell_type": "code",
      "execution_count": null,
      "metadata": {
        "colab": {
          "base_uri": "https://localhost:8080/"
        },
        "id": "OE3ni3qi6rmY",
        "outputId": "86af90d0-d2e5-47b7-fc02-3cce28180edb"
      },
      "outputs": [
        {
          "name": "stdout",
          "output_type": "stream",
          "text": [
            "2\n",
            "4\n",
            "6\n",
            "8\n",
            "10\n",
            "12\n",
            "14\n",
            "16\n",
            "18\n",
            "20\n",
            "22\n",
            "24\n",
            "26\n",
            "28\n",
            "30\n"
          ]
        }
      ],
      "source": [
        "# Q8.Write a code that generates even numbers from 2 to n using a generator.\n",
        "\n",
        "# Ans.\n",
        "\n",
        "def even_number(n):\n",
        "    for i in range (2, n+1):\n",
        "        if i%2 ==0:\n",
        "            yield i\n",
        "\n",
        "n = 30\n",
        "even = even_number(n)\n",
        "for number in even:\n",
        "    print(number)\n"
      ]
    },
    {
      "cell_type": "code",
      "execution_count": null,
      "metadata": {
        "colab": {
          "base_uri": "https://localhost:8080/"
        },
        "id": "ChjK_Pze6vDJ",
        "outputId": "fc4bed65-c0bb-41a0-cee0-b65a3fd0cadc"
      },
      "outputs": [
        {
          "name": "stdout",
          "output_type": "stream",
          "text": [
            "1\n",
            "2\n",
            "4\n",
            "8\n",
            "16\n",
            "32\n",
            "64\n"
          ]
        }
      ],
      "source": [
        "# Q9. Write a code that generates powers of two up to n using a generator.\n",
        "\n",
        "# Ans.\n",
        "\n",
        "def power_of_two(n):\n",
        "    power = 1\n",
        "    while power <= n:\n",
        "        yield power\n",
        "        power *=2\n",
        "\n",
        "\n",
        "n = 100\n",
        "generate = power_of_two(n)\n",
        "for power in generate:\n",
        "    print(power)"
      ]
    },
    {
      "cell_type": "code",
      "execution_count": null,
      "metadata": {
        "colab": {
          "base_uri": "https://localhost:8080/"
        },
        "id": "M5uS8Qc96yP5",
        "outputId": "22a5caf2-7c8b-46c1-b8e6-68f7a36ca826"
      },
      "outputs": [
        {
          "name": "stdout",
          "output_type": "stream",
          "text": [
            "2\n",
            "3\n",
            "5\n",
            "7\n",
            "11\n",
            "13\n",
            "17\n",
            "19\n",
            "23\n",
            "29\n",
            "31\n",
            "37\n",
            "41\n",
            "43\n",
            "47\n"
          ]
        }
      ],
      "source": [
        "# Q10. Write a code that generates prime numbers up to n using a generator.\n",
        "\n",
        "# Ans.\n",
        "\n",
        "def generate_primes(n):\n",
        "    # Helper function to check if a number is prime\n",
        "    def is_prime(num):\n",
        "        if num < 2:\n",
        "            return False\n",
        "        for i in range(2, int(num**0.5) + 1):\n",
        "            if num % i == 0:\n",
        "                return False\n",
        "        return True\n",
        "\n",
        "    for i in range(2, n+1):\n",
        "        if is_prime(i):\n",
        "            yield i  # Yield the prime number\n",
        "\n",
        "# Usage:\n",
        "n = 50\n",
        "primes = generate_primes(n)\n",
        "\n",
        "# Loop through the generator to print the prime numbers\n",
        "for prime in primes:\n",
        "    print(prime)\n"
      ]
    },
    {
      "cell_type": "code",
      "execution_count": null,
      "metadata": {
        "colab": {
          "base_uri": "https://localhost:8080/"
        },
        "id": "lGp_phxW61L5",
        "outputId": "e7fd8aa0-bbc4-4473-8ebf-7196e832d2b2"
      },
      "outputs": [
        {
          "name": "stdout",
          "output_type": "stream",
          "text": [
            "The sum of 5 and 7 is : 12\n"
          ]
        }
      ],
      "source": [
        "# Q11. Write a code that uses a lambda function to calculate the sum of two numbers.\n",
        "\n",
        "# Ans.\n",
        "\n",
        "# Using a lambda function to sum two numbers\n",
        "sum_of_two = lambda x, y: x + y\n",
        "\n",
        "# Usage:\n",
        "num1 = 5\n",
        "num2 = 7\n",
        "result = sum_of_two(num1, num2)\n",
        "\n",
        "print(f\"The sum of {num1} and {num2} is : {result}\")\n"
      ]
    },
    {
      "cell_type": "code",
      "execution_count": null,
      "metadata": {
        "colab": {
          "base_uri": "https://localhost:8080/"
        },
        "id": "_vcudKI5659a",
        "outputId": "114d895a-12f4-464e-ccb5-f7b935ab4da3"
      },
      "outputs": [
        {
          "name": "stdout",
          "output_type": "stream",
          "text": [
            "The square of given number is: 25\n"
          ]
        }
      ],
      "source": [
        "# Q12. Write a code that uses a lambda function to calculate the square of a given number.\n",
        "\n",
        "# Ans.\n",
        "\n",
        "square_number = lambda x: x**2\n",
        "\n",
        "num1 = 5\n",
        "result = square_number(num1)\n",
        "print(\"The square of given number is:\", result)"
      ]
    },
    {
      "cell_type": "code",
      "execution_count": null,
      "metadata": {
        "colab": {
          "background_save": true,
          "base_uri": "https://localhost:8080/"
        },
        "id": "c5ISFMVP680B",
        "outputId": "209708c1-c1cd-4f65-d156-3996f42f322d"
      },
      "outputs": [
        {
          "name": "stdout",
          "output_type": "stream",
          "text": [
            "your number is:  EVEN\n"
          ]
        }
      ],
      "source": [
        "# Q13 Write a code that uses a lambda function to check whether a given number is even or odd.\n",
        "\n",
        "# Ans.\n",
        "\n",
        "check_even_odd = lambda x: \"EVEN\" if x%2 ==0 else \"ODD\"\n",
        "\n",
        "num1 = int(input(\"enter a number for checking odd even: \"))\n",
        "\n",
        "result = check_even_odd(num1)\n",
        "print(\"your number is: \", result)"
      ]
    },
    {
      "cell_type": "code",
      "execution_count": null,
      "metadata": {
        "id": "dduKjOmc6_Nn",
        "colab": {
          "base_uri": "https://localhost:8080/"
        },
        "outputId": "cfcaf5d4-2cd3-4905-c241-3053d5ccb700"
      },
      "outputs": [
        {
          "output_type": "stream",
          "name": "stdout",
          "text": [
            "Enter second string: pw\n",
            "Your final string is: pw pw\n"
          ]
        }
      ],
      "source": [
        "#Q15 Write a code that uses a lambda function to concatenate two strings.\n",
        "\n",
        "# Ans.\n",
        "\n",
        "concatenate_string = lambda x, y: str(x)+\" \"+str(y)\n",
        "str1 = input(\"Enter first string: \")\n",
        "str2 = input(\"Enter second string: \")\n",
        "result = concatenate_string(str1, str2)\n",
        "print(\"Your final string is:\", result)"
      ]
    },
    {
      "cell_type": "code",
      "execution_count": null,
      "metadata": {
        "id": "9i2GLVuU7C0U",
        "colab": {
          "base_uri": "https://localhost:8080/"
        },
        "outputId": "a18c0d77-5097-4205-f870-e9e7b702464b"
      },
      "outputs": [
        {
          "output_type": "stream",
          "name": "stdout",
          "text": [
            "Enter first number: 23\n",
            "Enter second number: 24\n",
            "Enter third number: 65\n",
            "The maximum of 23, 24, and 65 is 65.\n"
          ]
        }
      ],
      "source": [
        "# Q16. Write a code that uses a lambda function to find the maximum of three given numbers.\n",
        "# Lambda function to find the maximum of three numbers\n",
        "\n",
        "# Ans.\n",
        "\n",
        "max_of_three = lambda x, y, z: max(x, y, z)\n",
        "\n",
        "# Usage:\n",
        "num1 = int(input(\"Enter first number: \"))\n",
        "num2 = int(input(\"Enter second number: \"))\n",
        "num3 = int(input(\"Enter third number: \"))\n",
        "result = max_of_three(num1, num2, num3)\n",
        "\n",
        "print(f\"The maximum of {num1}, {num2}, and {num3} is {result}.\")\n"
      ]
    },
    {
      "cell_type": "code",
      "execution_count": 26,
      "metadata": {
        "id": "ImiGCDRH7G_l",
        "colab": {
          "base_uri": "https://localhost:8080/"
        },
        "outputId": "a986b800-e261-4c34-bdc0-d75b2e80c687"
      },
      "outputs": [
        {
          "output_type": "stream",
          "name": "stdout",
          "text": [
            "[4, 16, 36]\n"
          ]
        }
      ],
      "source": [
        "# Q17 Write a code that generates the squares of even numbers from a given list.\n",
        "\n",
        "\n",
        "# Ans.\n",
        "\n",
        "def square_of_number(list):\n",
        "    square_list = []\n",
        "    for i in list:\n",
        "        if i%2==0:\n",
        "            square_list.append(i**2)\n",
        "    return square_list\n",
        "\n",
        "print(square_of_number([2,3,4,5,6]))\n"
      ]
    },
    {
      "cell_type": "code",
      "execution_count": 5,
      "metadata": {
        "id": "lzrgFDQU7Jhn",
        "colab": {
          "base_uri": "https://localhost:8080/"
        },
        "outputId": "c7b177f9-6103-4346-c8ea-f9a03d07a556"
      },
      "outputs": [
        {
          "output_type": "stream",
          "name": "stdout",
          "text": [
            "Squares of even numbers: [4, 16, 36, 64, 100]\n"
          ]
        }
      ],
      "source": [
        "# Q17, ANS.(comprehension method)\n",
        "# Given list of numbers\n",
        "numbers = [1, 2, 3, 4, 5, 6, 7, 8, 9, 10]\n",
        "\n",
        "# Using a list comprehension to generate squares of even numbers\n",
        "squares_of_even = [x**2 for x in numbers if x % 2 == 0]\n",
        "\n",
        "print(\"Squares of even numbers:\", squares_of_even)\n"
      ]
    },
    {
      "cell_type": "code",
      "execution_count": 27,
      "metadata": {
        "id": "b3QSRm7y7ZPH",
        "colab": {
          "base_uri": "https://localhost:8080/"
        },
        "outputId": "40ca91bf-50a8-4fc6-a66e-775a3240d344"
      },
      "outputs": [
        {
          "output_type": "stream",
          "name": "stdout",
          "text": [
            "Your product of positive number is:  6\n"
          ]
        }
      ],
      "source": [
        "# Q18 Write a code that calculates the product of positive numbers from a given list.\n",
        "\n",
        "\n",
        "# Ans.\n",
        "\n",
        "def product_of_positive(lst):\n",
        "\n",
        "    a = 1\n",
        "    for i in lst:\n",
        "        if i > 0:\n",
        "            a = a*i\n",
        "            result = a\n",
        "    return result\n",
        "\n",
        "list1 = [1,2,3,-4,-6,-9]\n",
        "print(\"Your product of positive number is: \", product_of_positive(list1))\n"
      ]
    },
    {
      "cell_type": "code",
      "execution_count": 28,
      "metadata": {
        "id": "FruhsNj67cQa",
        "colab": {
          "base_uri": "https://localhost:8080/"
        },
        "outputId": "3112e5c1-cdea-48ae-9c5b-ba36c5a65f09"
      },
      "outputs": [
        {
          "output_type": "stream",
          "name": "stdout",
          "text": [
            "this is your dobules:  [2, 14]\n"
          ]
        }
      ],
      "source": [
        "# Q19 Write a code that doubles the values of odd numbers from a given list.\n",
        "\n",
        "# Ans.\n",
        "\n",
        "numbers = [1,2,4,7,8]\n",
        "double_of_value = [x*2 for x in numbers if x%2 !=0]\n",
        "print(\"this is your dobules: \", double_of_value)"
      ]
    },
    {
      "cell_type": "code",
      "execution_count": 29,
      "metadata": {
        "id": "tHwNUUic7fpQ",
        "colab": {
          "base_uri": "https://localhost:8080/"
        },
        "outputId": "27a15ceb-e6ff-4a11-f994-d5bdb345dde3"
      },
      "outputs": [
        {
          "output_type": "stream",
          "name": "stdout",
          "text": [
            "the sum of cube of given list:  100\n"
          ]
        }
      ],
      "source": [
        "# Q20 Write a code that calculates the sum of cubes of numbers from a given list.\n",
        "\n",
        "# Ans.\n",
        "\n",
        "def sum_of_cube(lst):\n",
        "    a = 0\n",
        "    b = 0\n",
        "    for i in lst:\n",
        "        a = i**3\n",
        "        b = b+a\n",
        "        result = b\n",
        "    return result\n",
        "\n",
        "list1 = [1,2,3,4]\n",
        "print(\"the sum of cube of given list: \", sum_of_cube(list1))\n",
        "\n",
        "\n"
      ]
    },
    {
      "cell_type": "code",
      "execution_count": 30,
      "metadata": {
        "id": "zBj6LX2J7h9Y",
        "colab": {
          "base_uri": "https://localhost:8080/"
        },
        "outputId": "9119959e-bbeb-4ae5-fa3f-14555cc97472"
      },
      "outputs": [
        {
          "output_type": "stream",
          "name": "stdout",
          "text": [
            "Prime numbers from the list: [2, 3, 5, 7, 11]\n"
          ]
        }
      ],
      "source": [
        "#Q21 Write a code that filters out prime numbers from a given list.\n",
        "# Helper function to check if a number is prime\n",
        "\n",
        "# Ans.\n",
        "\n",
        "def is_prime(num):\n",
        "    if num < 2:\n",
        "        return False\n",
        "    for i in range(2, int(num**0.5) + 1):\n",
        "        if num % i == 0:\n",
        "            return False\n",
        "    return True\n",
        "\n",
        "\n",
        "numbers = [1, 2, 3, 4, 5, 6, 7, 8, 9, 10, 11]\n",
        "\n",
        "\n",
        "primes = [num for num in numbers if is_prime(num)]\n",
        "\n",
        "print(\"Prime numbers from the list:\", primes)\n"
      ]
    },
    {
      "cell_type": "code",
      "execution_count": 31,
      "metadata": {
        "id": "Q1dqNPhq7ofy",
        "colab": {
          "base_uri": "https://localhost:8080/"
        },
        "outputId": "8c2da18f-3c0e-4763-bb69-6c9590b7dbfb"
      },
      "outputs": [
        {
          "output_type": "stream",
          "name": "stdout",
          "text": [
            "The sum of 5 and 7 is : 12\n"
          ]
        }
      ],
      "source": [
        "# Q22. Write a code that uses a lambda function to calculate the sum of two numbers.\n",
        "# Using a lambda function to sum two numbers\n",
        "\n",
        "# Ans.\n",
        "\n",
        "sum_of_two = lambda x, y: x + y\n",
        "\n",
        "# Usage:\n",
        "num1 = 5\n",
        "num2 = 7\n",
        "result = sum_of_two(num1, num2)\n",
        "\n",
        "print(f\"The sum of {num1} and {num2} is : {result}\")\n"
      ]
    },
    {
      "cell_type": "code",
      "execution_count": 32,
      "metadata": {
        "id": "6rK72Um58f8U",
        "colab": {
          "base_uri": "https://localhost:8080/"
        },
        "outputId": "0ef88426-f473-463a-9bd3-94fc43565214"
      },
      "outputs": [
        {
          "output_type": "stream",
          "name": "stdout",
          "text": [
            "The square of given number is: 25\n"
          ]
        }
      ],
      "source": [
        "# Q23. Write a code that uses a lambda function to calculate the square of a given number.\n",
        "\n",
        "# Ans.\n",
        "\n",
        "square_number = lambda x: x**2\n",
        "\n",
        "num1 = 5\n",
        "result = square_number(num1)\n",
        "print(\"The square of given number is:\", result)"
      ]
    },
    {
      "cell_type": "code",
      "execution_count": null,
      "metadata": {
        "id": "AKE5wzHF8qt2",
        "colab": {
          "base_uri": "https://localhost:8080/"
        },
        "outputId": "9853d8b4-f4ff-4b3b-b1c7-9bcca6ff04bb"
      },
      "outputs": [
        {
          "output_type": "stream",
          "name": "stdout",
          "text": [
            "enter a number for checking odd even: 7\n",
            "your number is:  ODD\n"
          ]
        }
      ],
      "source": [
        "# Q24 Write a code that uses a lambda function to check whether a given number is even or odd.\n",
        "\n",
        "# Ans.\n",
        "\n",
        "check_even_odd = lambda x: \"EVEN\" if x%2 ==0 else \"ODD\"\n",
        "\n",
        "num1 = int(input(\"enter a number for checking odd even: \"))\n",
        "\n",
        "result = check_even_odd(num1)\n",
        "print(\"your number is: \", result)"
      ]
    },
    {
      "cell_type": "code",
      "source": [
        "#Q25 Write a code that uses a lambda function to concatenate two strings.\n",
        "\n",
        "# Ans.\n",
        "\n",
        "concatenate_string = lambda x, y: str(x)+\" \"+str(y)\n",
        "str1 = input(\"Enter first string: \")\n",
        "str2 = input(\"Enter second string: \")\n",
        "result = concatenate_string(str1, str2)\n",
        "print(\"Your final string is:\", result)"
      ],
      "metadata": {
        "colab": {
          "base_uri": "https://localhost:8080/"
        },
        "id": "zuIwHwut90Mp",
        "outputId": "d837bbbd-138b-4726-e5a9-1478c6b1140d"
      },
      "execution_count": null,
      "outputs": [
        {
          "output_type": "stream",
          "name": "stdout",
          "text": [
            "Enter first string: pw\n",
            "Enter second string: skills\n",
            "Your final string is: pw skills\n"
          ]
        }
      ]
    },
    {
      "cell_type": "code",
      "source": [
        "# Q26. Write a code that uses a lambda function to find the maximum of three given numbers.\n",
        "# Lambda function to find the maximum of three numbers.\n",
        "\n",
        "# Ans.\n",
        "\n",
        "max_of_three = lambda x, y, z: max(x, y, z)\n",
        "\n",
        "# Usage:\n",
        "num1 = int(input(\"Enter first number: \"))\n",
        "num2 = int(input(\"Enter second number: \"))\n",
        "num3 = int(input(\"Enter third number: \"))\n",
        "result = max_of_three(num1, num2, num3)\n",
        "\n",
        "print(f\"The maximum of {num1}, {num2}, and {num3} is {result}.\")\n"
      ],
      "metadata": {
        "colab": {
          "base_uri": "https://localhost:8080/"
        },
        "id": "whpaeChB98aL",
        "outputId": "b3e8aea1-2e1d-41a8-9e9f-9c9f26c0b339"
      },
      "execution_count": null,
      "outputs": [
        {
          "output_type": "stream",
          "name": "stdout",
          "text": [
            "Enter first number: 7\n",
            "Enter second number: 9\n",
            "Enter third number: 5\n",
            "The maximum of 7, 9, and 5 is 9.\n"
          ]
        }
      ]
    },
    {
      "cell_type": "code",
      "source": [
        "\n",
        "# Q27. What is encapsulation in OOP?\n",
        "\n",
        "# Ans.\n",
        "# Encapsulation is one of the fundamental principles of object-oriented programming (OOP).\n",
        "# It refers to the bundling of data (attributes) and the methods (functions) that operate on that data within a single unit, or class.\n",
        "#  The main idea is to protect the data from unauthorized access and modification, promoting data integrity and code maintainability.\n",
        "\n",
        "# Key aspects of encapsulation:\n",
        "\n",
        "# 1. Data Hiding:  Encapsulation hides the internal representation of an object from the outside world.\n",
        "#  This means that the details of how an object stores its data and performs its operations are not directly accessible from outside the class.\n",
        "#    Access is controlled through methods provided by the class.\n",
        "\n",
        "# 2. Access Modifiers (or Access Specifiers):  These are keywords (like `public`, `private`, and `protected` in many languages) used to\n",
        "# specify the visibility and accessibility of class members (attributes and methods).\n",
        "\n",
        "#    - Public members:  Accessible from anywhere, both inside and outside the class.\n",
        "#    - Private members:  Accessible only within the class itself.  They are not directly visible or modifiable from outside.\n",
        "#    - Protected members:  Accessible within the class itself and its subclasses (derived classes).\n",
        "\n",
        "# 3. Getters and Setters (Accessors and Mutators):  Instead of directly accessing private attributes, you usually provide public methods\n",
        "#  (getters and setters) to retrieve and modify the values of those attributes. This allows for controlled access and\n",
        "#  allows you to add validation or other logic when getting or setting the value.\n",
        "\n",
        "\n",
        "# Example (Python):\n",
        "\n",
        "class BankAccount:\n",
        "    def __init__(self, account_number, balance):\n",
        "        self._account_number = account_number  # Protected attribute (convention in Python)\n",
        "        self.__balance = balance  # Private attribute (name mangling in Python)\n",
        "\n",
        "    def get_balance(self):\n",
        "        return self.__balance\n",
        "\n",
        "    def deposit(self, amount):\n",
        "        if amount > 0:\n",
        "            self.__balance += amount\n",
        "        else:\n",
        "            print(\"Invalid deposit amount.\")\n",
        "\n",
        "    def withdraw(self, amount):\n",
        "        if 0 < amount <= self.__balance:\n",
        "            self.__balance -= amount\n",
        "        else:\n",
        "            print(\"Insufficient funds or invalid withdrawal amount.\")\n",
        "\n",
        "\n",
        "# Usage:\n",
        "account = BankAccount(\"1234567890\", 1000)\n",
        "print(account.get_balance())  # Access balance through the getter\n",
        "\n",
        "account.deposit(500)\n",
        "print(account.get_balance())\n",
        "\n",
        "account.withdraw(200)\n",
        "print(account.get_balance())\n",
        "\n",
        "# Trying to access the private attribute directly will raise an AttributeError (due to name mangling):\n",
        "# print(account.__balance)  # This will result in an AttributeError\n",
        "\n",
        "# The protected attribute can be accessed outside the class in python but it's a convention that it shouldn't be\n",
        "# print(account._account_number)\n",
        "\n",
        "# Benefits of Encapsulation:\n",
        "# - Data security: Prevents accidental or intentional modification of data from outside the class.\n",
        "# - Code maintainability:  Changes to the internal implementation of a class do not affect the code that uses it,\n",
        "# as long as the public interface (methods) remains the same.\n",
        "# - Reusability: Encapsulated classes can be easily reused in other parts of a program or in other projects.\n",
        "# - Abstraction: Hides complex implementation details, allowing users to interact with objects at a higher level.\n"
      ],
      "metadata": {
        "id": "a5wYtnAx-1xN",
        "colab": {
          "base_uri": "https://localhost:8080/"
        },
        "outputId": "f4a17e8f-0e5a-41db-ed46-1fa1e0259cfc"
      },
      "execution_count": 7,
      "outputs": [
        {
          "output_type": "stream",
          "name": "stdout",
          "text": [
            "1000\n",
            "1500\n",
            "1300\n"
          ]
        }
      ]
    },
    {
      "cell_type": "code",
      "source": [
        "\n",
        "# Q28. Explain the use of access modifiers in Python classes.\n",
        "\n",
        "# Ans.\n",
        "# Access modifiers in Python are conventions rather than strict enforcement mechanisms like in languages like Java or C++.\n",
        "#  They signal the intended level of access to class members (attributes and methods) but don't prevent access completely.\n",
        "\n",
        "\n",
        "# 1. Public Members:\n",
        "# By default, all attributes and methods in a Python class are public.  They can be accessed and modified from anywhere,\n",
        "#  both inside and outside the class.\n",
        "\n",
        "# 2. Protected Members:\n",
        "# Protected members are indicated by a single leading underscore (_).\n",
        "#  It's a convention to signal that these members should not be accessed directly from outside the class,\n",
        "# but they can still be accessed if needed.  It's more of a hint to other developers than a strict rule.\n",
        "\n",
        "# 3. Private Members:\n",
        "# Private members are indicated by a double leading underscore (__).  Python performs name mangling on private members,\n",
        "#  making them harder to access directly from outside the class.\n",
        "# However, they can still be accessed using a slightly modified name ( _ClassName__attributeName).\n",
        "#  It's important to understand that this name mangling is more of an obfuscation technique to prevent accidental access rather than a true form of access restriction.\n",
        "\n",
        "# Example demonstrating access modifiers in Python:\n",
        "class MyClass:\n",
        "    def __init__(self):\n",
        "        self.public_var = 10  # Public\n",
        "        self._protected_var = 20  # Protected (convention)\n",
        "        self.__private_var = 30  # Private (name mangling)\n",
        "\n",
        "    def public_method(self):\n",
        "        print(\"Public method\")\n",
        "\n",
        "    def _protected_method(self):\n",
        "        print(\"Protected method\")\n",
        "\n",
        "    def __private_method(self):\n",
        "        print(\"Private method\")\n",
        "\n",
        "# Create an instance of the class\n",
        "obj = MyClass()\n",
        "\n",
        "# Accessing members\n",
        "print(obj.public_var)  # Access public variable (allowed)\n",
        "obj.public_method()  # Call public method (allowed)\n",
        "\n",
        "print(obj._protected_var) # Access protected variable (allowed but not recommended)\n",
        "obj._protected_method()  # Call protected method (allowed but not recommended)\n",
        "\n",
        "# Accessing private members directly will fail\n",
        "# print(obj.__private_var)  # This will result in an AttributeError\n",
        "\n",
        "# But accessing mangled names is possible\n",
        "print(obj._MyClass__private_var) # Allowed, but not advisable\n",
        "\n",
        "\n",
        "# Key takeaways regarding access modifiers in Python:\n",
        "\n",
        "# - Access modifiers are primarily conventions.\n",
        "# - Protected members (_variable) are a suggestion not to access them from outside the class, but it is possible.\n",
        "# - Private members (__variable) undergo name mangling which makes them difficult but not impossible to access.\n",
        "# - It is generally recommended to follow the conventions for clarity and maintainability,\n",
        "#  and avoid direct access to protected and private members.\n"
      ],
      "metadata": {
        "colab": {
          "base_uri": "https://localhost:8080/"
        },
        "id": "03fIRHvoJl4-",
        "outputId": "f1cf9106-6720-4949-b5dc-81ca66ecffa2"
      },
      "execution_count": 8,
      "outputs": [
        {
          "output_type": "stream",
          "name": "stdout",
          "text": [
            "10\n",
            "Public method\n",
            "20\n",
            "Protected method\n",
            "30\n"
          ]
        }
      ]
    },
    {
      "cell_type": "code",
      "source": [
        "\n",
        "# Inheritance in OOP\n",
        "\n",
        "# Ans.\n",
        "# Inheritance is a mechanism in object-oriented programming (OOP) that allows you to create new classes (derived classes or subclasses)\n",
        "# based on existing classes (base classes or superclasses).  The derived class inherits the attributes and methods of the base class,\n",
        "# and it can also add its own unique attributes and methods or override inherited ones.  Inheritance promotes code reusability and establishes\n",
        "# a hierarchical relationship between classes.\n",
        "\n",
        "\n",
        "# Benefits of Inheritance:\n",
        "\n",
        "# - Code Reusability: Avoids redundant code by inheriting properties and methods from existing classes.\n",
        "# - Extensibility: Easily add new features or modify existing ones without altering the original class.\n",
        "# - Hierarchical Relationships:  Models real-world relationships between objects, creating a clear structure.\n",
        "# - Polymorphism: Allows objects of different classes to be treated as objects of a common type.\n",
        "\n",
        "\n",
        "# Example (Python):\n",
        "class Animal: # Base class\n",
        "    def __init__(self, name):\n",
        "        self.name = name\n",
        "\n",
        "    def speak(self):\n",
        "        print(\"Generic animal sound\")\n",
        "\n",
        "class Dog(Animal):  # Derived class inheriting from Animal\n",
        "    def __init__(self, name, breed):\n",
        "        super().__init__(name) # Call the constructor of the base class\n",
        "        self.breed = breed\n",
        "\n",
        "    def speak(self):  # Overriding the speak method\n",
        "        print(\"Woof!\")\n",
        "\n",
        "class Cat(Animal): # Derived class inheriting from Animal\n",
        "    def speak(self): # Overriding the speak method\n",
        "        print(\"Meow!\")\n",
        "\n",
        "# Create instances\n",
        "animal = Animal(\"Generic Animal\")\n",
        "dog = Dog(\"Buddy\", \"Golden Retriever\")\n",
        "cat = Cat(\"Whiskers\")\n",
        "\n",
        "# Call methods\n",
        "animal.speak()  # Output: Generic animal sound\n",
        "dog.speak()    # Output: Woof!\n",
        "cat.speak()    # Output: Meow!\n",
        "\n",
        "print(dog.name) # Output: Buddy (inherited from Animal)\n",
        "print(dog.breed) # Output: Golden Retriever\n",
        "\n",
        "# Types of Inheritance:\n",
        "# - Single inheritance: A class inherits from only one base class. (e.g. Dog inherits from Animal)\n",
        "# - Multiple inheritance: A class inherits from multiple base classes. (less common, can lead to complexity)\n",
        "# - Multilevel inheritance: A class inherits from a derived class.\n",
        "# - Hierarchical inheritance: Multiple derived classes inherit from the same base class.\n",
        "# - Hybrid Inheritance: A combination of different inheritance types.\n"
      ],
      "metadata": {
        "id": "IkZ-U4YXAvbg",
        "colab": {
          "base_uri": "https://localhost:8080/"
        },
        "outputId": "cbda45e9-4f11-4783-88cd-9692c9c8d4a3"
      },
      "execution_count": 9,
      "outputs": [
        {
          "output_type": "stream",
          "name": "stdout",
          "text": [
            "Generic animal sound\n",
            "Woof!\n",
            "Meow!\n",
            "Buddy\n",
            "Golden Retriever\n"
          ]
        }
      ]
    },
    {
      "cell_type": "code",
      "source": [
        "#Q30 Polymorphism in OOP\n",
        "\n",
        "# Ans.\n",
        "# Polymorphism (meaning \"many forms\") is a powerful concept in object-oriented programming that allows objects of different\n",
        "# classes to be treated as objects of a common type.  This enables you to write code that can work with objects of various\n",
        "#  classes without needing to know their specific types at compile time.  It's a key aspect of flexible and extensible software design.\n",
        "\n",
        "\n",
        "# Key aspects of polymorphism:\n",
        "\n",
        "# 1. Method Overriding:  A subclass can provide a specific implementation for a method that is already defined in its superclass.\n",
        "#  This allows the subclass to customize the behavior of the inherited method.\n",
        "\n",
        "# 2. Method Overloading:  (Not directly supported in Python) In some languages, method overloading allows a class to have multiple\n",
        "#  methods with the same name but different parameters.  Python does not support method overloading in the same way; instead,\n",
        "#  you can use default argument values or variable arguments (*args and **kwargs) to achieve similar results.\n",
        "\n",
        "\n",
        "# Example (Method Overriding)\n",
        "\n",
        "\n",
        "class Animal:\n",
        "    def speak(self):\n",
        "        print(\"Generic animal sound\")\n",
        "\n",
        "class Dog(Animal):\n",
        "    def speak(self):  # Overriding the speak method\n",
        "        print(\"Woof!\")\n",
        "\n",
        "class Cat(Animal):\n",
        "    def speak(self):  # Overriding the speak method\n",
        "        print(\"Meow!\")\n",
        "\n",
        "\n",
        "# Usage:\n",
        "\n",
        "animals = [Animal(), Dog(), Cat()]\n",
        "\n",
        "for animal in animals:\n",
        "    animal.speak() # Polymorphic behavior: The correct speak() method is called based on the object's actual type.\n",
        "\n",
        "\n",
        "\n",
        "# Example illustrating polymorphism using a function:\n",
        "\n",
        "def animal_sound(animal):\n",
        "  animal.speak()\n",
        "\n",
        "my_dog = Dog()\n",
        "my_cat = Cat()\n",
        "\n",
        "animal_sound(my_dog) # Output: Woof!\n",
        "animal_sound(my_cat) # Output: Meow!\n",
        "\n",
        "# Benefits of Polymorphism:\n",
        "\n",
        "# 1. Flexibility:  Write code that can handle objects of different classes without needing to know their exact types.\n",
        "# 2. Extensibility: Easily add new classes to your system without modifying existing code, as long as the new classes\n",
        "#  implement the common interface.\n",
        "# 3. Maintainability:  Changes to one class have a minimal impact on other parts of the system.\n",
        "\n",
        "\n",
        "# Note:  Polymorphism often works in conjunction with inheritance and interfaces (or abstract classes) to achieve its full potential.\n"
      ],
      "metadata": {
        "id": "rELTCbxfBMZf",
        "colab": {
          "base_uri": "https://localhost:8080/"
        },
        "outputId": "464f4efa-54f1-4c64-f836-8f25c92481b8"
      },
      "execution_count": 10,
      "outputs": [
        {
          "output_type": "stream",
          "name": "stdout",
          "text": [
            "Generic animal sound\n",
            "Woof!\n",
            "Meow!\n",
            "Woof!\n",
            "Meow!\n"
          ]
        }
      ]
    },
    {
      "cell_type": "code",
      "source": [
        "# Q31. Explain method overriding in Python.\n",
        "\n",
        "# Ans. Method overriding is a feature of object-oriented programming (OOP) that allows a subclass (child class) to provide a\n",
        "# specific implementation of a method that is already defined in its superclass (parent class).\n",
        "# The overridden method in the child class has the same name, return type, and parameters as the method in the parent class.\n",
        "class Parent:\n",
        "    def show(self):\n",
        "        print(\"This is the Parent class method.\")\n",
        "\n",
        "class Child(Parent):\n",
        "    def show(self):  # Overriding the Parent method\n",
        "        print(\"This is the Child class method.\")\n",
        "\n",
        "# Creating objects\n",
        "parent_obj = Parent()\n",
        "child_obj = Child()\n",
        "\n",
        "parent_obj.show()  # Calls the Parent class method\n",
        "child_obj.show()   # Calls the overridden Child class method\n"
      ],
      "metadata": {
        "colab": {
          "base_uri": "https://localhost:8080/"
        },
        "id": "bRzKAKvKBkOs",
        "outputId": "3c703f84-92c5-49d6-d7ea-0800fb299b1d"
      },
      "execution_count": null,
      "outputs": [
        {
          "output_type": "stream",
          "name": "stdout",
          "text": [
            "This is the Parent class method.\n",
            "This is the Child class method.\n"
          ]
        }
      ]
    },
    {
      "cell_type": "code",
      "source": [
        "#Q32. Define a parent class Animal with a method make_sound that prints \"Generic animal sound\". Create a\n",
        "# child class Dog inheriting from Animal with a method make_sound that prints \"Woof!\"\n",
        "\n",
        "# Ans.\n",
        "class Animal:\n",
        "    def make_sound(self):\n",
        "        print(\"Generic animal sound\")\n",
        "\n",
        "class Dog(Animal):\n",
        "    def make_sound(self):\n",
        "        print(\"Woof!\")\n",
        "\n",
        "# Creating objects\n",
        "animal = Animal()\n",
        "dog = Dog()\n",
        "\n",
        "# Calling make_sound() method\n",
        "animal.make_sound()  # Output: Generic animal sound\n",
        "dog.make_sound()     # Output: Woof!\n"
      ],
      "metadata": {
        "colab": {
          "base_uri": "https://localhost:8080/"
        },
        "id": "gevHNuGOBucp",
        "outputId": "3369a906-c291-4294-8f8d-900a13694745"
      },
      "execution_count": null,
      "outputs": [
        {
          "output_type": "stream",
          "name": "stdout",
          "text": [
            "Generic animal sound\n",
            "Woof!\n"
          ]
        }
      ]
    },
    {
      "cell_type": "code",
      "source": [
        "#Q33. Define a method move in the Animal class that prints \"Animal moves\". Override the move method in the\n",
        "# Dog class to print \"Dog runs\".\n",
        "\n",
        "# Ans.\n",
        "\n",
        "class Animal:\n",
        "    def move(self):\n",
        "        print(\"Animal moves\")\n",
        "\n",
        "class Dog(Animal):\n",
        "    def move(self):\n",
        "        print(\"Dog runs\")\n",
        "\n",
        "# Creating objects\n",
        "animal = Animal()\n",
        "dog = Dog()\n",
        "\n",
        "# Calling move() method\n",
        "animal.move()  # Output: Animal moves\n",
        "dog.move()     # Output: Dog runs\n"
      ],
      "metadata": {
        "colab": {
          "base_uri": "https://localhost:8080/"
        },
        "id": "eVmI7pPpCwc0",
        "outputId": "057e30d7-5f6b-4f26-950f-913b631f5c97"
      },
      "execution_count": null,
      "outputs": [
        {
          "output_type": "stream",
          "name": "stdout",
          "text": [
            "Animal moves\n",
            "Dog runs\n"
          ]
        }
      ]
    },
    {
      "cell_type": "code",
      "source": [
        "# Q34. Create a class Mammal with a method reproduce that prints \"Giving birth to live young.\" Create a class\n",
        "# DogMammal inheriting from both Dog and Mammal.\n",
        "\n",
        "# Ans.\n",
        "\n",
        "class Animal:\n",
        "    def move(self):\n",
        "        print(\"Animal moves\")\n",
        "\n",
        "class Dog(Animal):\n",
        "    def move(self):  # Overriding the parent class method\n",
        "        print(\"Dog runs\")\n",
        "\n",
        "class Mammal:\n",
        "    def reproduce(self):\n",
        "        print(\"Giving birth to live young.\")\n",
        "\n",
        "class DogMammal(Dog, Mammal):  # Multiple Inheritance\n",
        "    pass  # Inherits methods from both Dog and Mammal\n",
        "\n",
        "# Creating an object of DogMammal\n",
        "dog_mammal = DogMammal()\n",
        "\n",
        "# Calling inherited methods\n",
        "dog_mammal.move()\n"
      ],
      "metadata": {
        "colab": {
          "base_uri": "https://localhost:8080/"
        },
        "id": "LtQ6RrwLC7Vn",
        "outputId": "cc8ec496-7350-4926-c5b6-83944bc5cd42"
      },
      "execution_count": null,
      "outputs": [
        {
          "output_type": "stream",
          "name": "stdout",
          "text": [
            "Dog runs\n"
          ]
        }
      ]
    },
    {
      "cell_type": "code",
      "source": [
        "# Q35. Create a class GermanShepherd inheriting from Dog and override the make_sound method to print\n",
        "# \"Bark!\n",
        "\n",
        "\n",
        "# Ans.\n",
        "\n",
        "class Animal:\n",
        "    def make_sound(self):\n",
        "        print(\"Generic animal sound\")\n",
        "\n",
        "class Dog(Animal):\n",
        "    def make_sound(self):\n",
        "        print(\"Woof!\")\n",
        "\n",
        "class GermanShepherd(Dog):\n",
        "    def make_sound(self):  # Overriding the Dog class method\n",
        "        print(\"Bark!\")\n",
        "\n",
        "# Creating objects\n",
        "dog = Dog()\n",
        "gs = GermanShepherd()\n",
        "\n",
        "# Calling make_sound() method\n",
        "dog.make_sound()  # Output: Woof!\n",
        "gs.make_sound()   # Output: Bark!\n"
      ],
      "metadata": {
        "colab": {
          "base_uri": "https://localhost:8080/"
        },
        "id": "TD6-OHQ_DTa_",
        "outputId": "f316d11e-8758-4911-8b34-af4da358f290"
      },
      "execution_count": null,
      "outputs": [
        {
          "output_type": "stream",
          "name": "stdout",
          "text": [
            "Woof!\n",
            "Bark!\n"
          ]
        }
      ]
    },
    {
      "cell_type": "code",
      "source": [
        "# Q36.  Define constructors in both the Animal and Dog classes with different initialization parameters.\n",
        "# Ans. Here's the Python implementation with constructors (__init__ methods) in both Animal and Dog classes,\n",
        "#  each having different initialization parameters\n",
        "\n",
        "# Ans.\n",
        "\n",
        "class Animal:\n",
        "    def __init__(self, species):\n",
        "        self.species = species\n",
        "        print(f\"Animal constructor: Species is {self.species}\")\n",
        "\n",
        "class Dog(Animal):\n",
        "    def __init__(self, species, breed):\n",
        "        super().__init__(species)  # Calling Animal's constructor\n",
        "        self.breed = breed\n",
        "        print(f\"Dog constructor: Breed is {self.breed}\")\n",
        "\n",
        "# Creating an instance of Dog\n",
        "dog = Dog(\"Canine\", \"Labrador\")\n"
      ],
      "metadata": {
        "colab": {
          "base_uri": "https://localhost:8080/"
        },
        "id": "CCtwLNu_Df3I",
        "outputId": "ad3ea798-97b3-4f16-ed6f-33ee74acd7bd"
      },
      "execution_count": null,
      "outputs": [
        {
          "output_type": "stream",
          "name": "stdout",
          "text": [
            "Animal constructor: Species is Canine\n",
            "Dog constructor: Breed is Labrador\n"
          ]
        }
      ]
    },
    {
      "cell_type": "code",
      "source": [
        "# Q37. What is abstraction in Python? How is it implemented?\n",
        "\n",
        "# Ans. Abstraction is one of the four fundamental principles of Object-Oriented Programming (OOP) (along with Encapsulation, Inheritance,\n",
        "#  and Polymorphism). It is the process of hiding implementation details from the user and only showing the essential features of an object.\n",
        "\n",
        "#  Key Benefits of Abstraction\n",
        "\n",
        "# 1. Hides unnecessary details and only exposes relevant information.\n",
        "# 2. Improves code reusability by defining abstract structures.\n",
        "# 3. Enhances security by preventing direct access to implementation details.\n",
        "# 4. Encourages modular programming, making the code easier to manage.\n",
        "\n",
        "\n",
        "# 1. Using ABC (Abstract Base Class) and @abstractmethod\n",
        "# An abstract class is a class that cannot be instantiated directly.\n",
        "# It contains one or more abstract methods (methods that must be implemented by child classes).\n",
        "\n",
        "from abc import ABC, abstractmethod\n",
        "\n",
        "# Defining an Abstract Class\n",
        "class Animal(ABC):\n",
        "    @abstractmethod\n",
        "    def make_sound(self):  # Abstract method (must be overridden)\n",
        "        pass\n",
        "\n",
        "    def move(self):  # Concrete method (can be inherited)\n",
        "        print(\"This animal moves.\")\n",
        "\n",
        "# Concrete Class implementing the abstract method\n",
        "class Dog(Animal):\n",
        "    def make_sound(self):\n",
        "        print(\"Woof!\")\n",
        "\n",
        "class Cat(Animal):\n",
        "    def make_sound(self):\n",
        "        print(\"Meow!\")\n",
        "\n",
        "# dog = Animal()  # ❌ Error: Cannot instantiate an abstract class\n",
        "dog = Dog()\n",
        "cat = Cat()\n",
        "\n",
        "dog.make_sound()  # Output: Woof!\n",
        "dog.move()        # Output: This animal moves.\n",
        "cat.make_sound()  # Output: Meow!\n"
      ],
      "metadata": {
        "colab": {
          "base_uri": "https://localhost:8080/"
        },
        "id": "rk0bo2HMrUCE",
        "outputId": "91cf0bd7-300e-4dbf-f299-5aa7bf1b6e79"
      },
      "execution_count": null,
      "outputs": [
        {
          "output_type": "stream",
          "name": "stdout",
          "text": [
            "Woof!\n",
            "This animal moves.\n",
            "Meow!\n"
          ]
        }
      ]
    },
    {
      "cell_type": "code",
      "source": [
        "\n",
        "# Q38. Explain the importance of abstraction in object-oriented programming.\n",
        "\n",
        "# Ans.\n",
        "# Abstraction in object-oriented programming (OOP) is a powerful tool that simplifies complex systems by hiding unnecessary implementation details\n",
        "# and exposing only essential information to the user. It allows you to create abstract classes or interfaces that define a common set of methods\n",
        "# that concrete classes must implement.  This promotes code reusability, modularity, and maintainability.\n",
        "\n",
        "\n",
        "# Importance of Abstraction:\n",
        "\n",
        "# 1. Simplifies Complex Systems: Abstraction hides intricate implementation details, making it easier to understand and use complex objects or\n",
        "#    systems without needing to know the inner workings.\n",
        "\n",
        "# 2. Improved Code Reusability: Abstract classes and interfaces provide a blueprint for creating concrete classes. By defining a set of methods that\n",
        "#    must be implemented, you encourage consistent behavior among different classes that implement the same interface, even though their underlying\n",
        "#    implementations might differ significantly.\n",
        "\n",
        "# 3. Modularity and Maintainability: Abstraction promotes modular design. Changes to the internal implementation of an abstract class or an interface\n",
        "#     do not affect the code that interacts with it, as long as the interface remains consistent. This makes the system easier to maintain, update, and\n",
        "#     extend.\n",
        "\n",
        "# 4. Encapsulation:  Abstraction works hand-in-hand with encapsulation (bundling data and methods together). It hides the internal state of an object\n",
        "# and exposes only\n",
        "#     a simplified view through its methods. This helps protect the data from accidental or unauthorized access.\n",
        "\n",
        "# 5. Polymorphism: Abstraction enables polymorphism (the ability of objects of different classes to respond to the same method call in their own\n",
        "#  specific way).\n",
        "#    Since multiple concrete classes implement the same interface, you can treat them uniformly, leading to more flexible and extensible code.\n",
        "\n",
        "\n",
        "\n",
        "# Example illustrating the importance of abstraction\n",
        "\n",
        "from abc import ABC, abstractmethod\n",
        "\n",
        "class Shape(ABC): # Abstract class\n",
        "    @abstractmethod\n",
        "    def area(self):\n",
        "        pass\n",
        "\n",
        "class Circle(Shape):\n",
        "    def __init__(self, radius):\n",
        "        self.radius = radius\n",
        "\n",
        "    def area(self):\n",
        "        return 3.14159 * self.radius * self.radius\n",
        "\n",
        "class Square(Shape):\n",
        "    def __init__(self, side):\n",
        "        self.side = side\n",
        "\n",
        "    def area(self):\n",
        "        return self.side * self.side\n",
        "\n",
        "shapes = [Circle(5), Square(4)]  # List of different shape objects\n",
        "\n",
        "for shape in shapes:\n",
        "  print(shape.area()) # Polymorphic behavior: area() is called correctly for each shape.\n",
        "\n",
        "\n",
        "# In this example, the `Shape` abstract class defines an `area()` method. The concrete classes `Circle` and `Square` implement the `area()` method\n",
        "#   according to their specific shapes.  The user of these classes does not need to know how the area is calculated internally for each shape;\n",
        "#   they can simply call the `area()` method and get the correct result.\n"
      ],
      "metadata": {
        "id": "c4VRSKpttr3M",
        "colab": {
          "base_uri": "https://localhost:8080/"
        },
        "outputId": "6fa04a27-6a82-4388-b233-7fe827abfb5f"
      },
      "execution_count": 11,
      "outputs": [
        {
          "output_type": "stream",
          "name": "stdout",
          "text": [
            "78.53975\n",
            "16\n"
          ]
        }
      ]
    },
    {
      "cell_type": "code",
      "source": [
        "# Q39. How are abstract methods different from regular methods in Python?\n",
        "\n",
        "# Ans.\n",
        "\n",
        "from abc import ABC, abstractmethod\n",
        "\n",
        "class AbstractClassExample(ABC):\n",
        "\n",
        "    @abstractmethod\n",
        "    def do_something(self):\n",
        "        pass\n",
        "\n",
        "class DoAdd(AbstractClassExample):\n",
        "    def do_something(self):\n",
        "        print(\"Add\")\n",
        "\n",
        "class DoSub(AbstractClassExample):\n",
        "    def do_something(self):\n",
        "        print(\"Sub\")\n",
        "\n",
        "\n",
        "# Abstract methods:\n",
        "# - Cannot be implemented in the abstract class. They only define the method signature.\n",
        "# - Must be implemented in any concrete class that inherits from the abstract class.\n",
        "# - Signaled by the `@abstractmethod` decorator.  If a concrete subclass does not implement an abstract method,\n",
        "# an error will be raised during instantiation.\n",
        "\n",
        "\n",
        "# Regular methods:\n",
        "# - Can be implemented directly in the abstract class.\n",
        "# - Can be overridden in subclasses if needed, but it's not required.\n",
        "\n",
        "#Key Differences Summarized:\n",
        "\n",
        "# | Feature          | Abstract Method                     | Regular Method                       |\n",
        "# |------------------|--------------------------------------|---------------------------------------|\n",
        "# | Implementation   | No implementation in abstract class  | Implementation in abstract class      |\n",
        "# | Subclass        | Must be overridden in subclasses     | Optional to override in subclasses  |\n",
        "# | `@abstractmethod` | Required                            | Not required                          |\n",
        "# | Instantiation    | Abstract class can't be instantiated directly| Abstract class can be instantiated if it has only regular methods. |\n"
      ],
      "metadata": {
        "id": "-8wg8Assueb4"
      },
      "execution_count": 33,
      "outputs": []
    },
    {
      "cell_type": "code",
      "source": [
        "# Q40.How can you achieve abstraction using interfaces in Python?\n",
        "\n",
        "# Ans.\n",
        "\n",
        "from abc import ABC, abstractmethod\n",
        "\n",
        "class Shape(ABC):\n",
        "    @abstractmethod\n",
        "    def area(self):\n",
        "        pass\n",
        "\n",
        "class Circle(Shape):\n",
        "    def __init__(self, radius):\n",
        "        self.radius = radius\n",
        "    def area(self):\n",
        "        return 3.14 * self.radius * self.radius\n",
        "\n",
        "class Square(Shape):\n",
        "    def __init__(self, side):\n",
        "        self.side = side\n",
        "    def area(self):\n",
        "        return self.side * self.side\n",
        "\n",
        "# Example usage\n",
        "circle = Circle(5)\n",
        "square = Square(4)\n",
        "\n",
        "print(circle.area())  # Output: 78.5\n",
        "print(square.area())  # Output: 16\n"
      ],
      "metadata": {
        "id": "cy9COwBrxndS",
        "colab": {
          "base_uri": "https://localhost:8080/"
        },
        "outputId": "0cdedaa1-60e1-417b-920d-d85c2591a619"
      },
      "execution_count": 13,
      "outputs": [
        {
          "output_type": "stream",
          "name": "stdout",
          "text": [
            "78.5\n",
            "16\n"
          ]
        }
      ]
    },
    {
      "cell_type": "code",
      "source": [
        "# Q41. Can you provide an example of how abstraction can be utilized to create a common interface for a group\n",
        "# of related classes in Python?\n",
        "\n",
        "# Ans.In Python, abstraction is achieved using abstract base classes (ABCs), which define a common interface for a group of related classes.\n",
        "#  This ensures that all subclasses implement specific methods, promoting consistency and reducing code duplication.\n",
        "from abc import ABC, abstractmethod\n",
        "\n",
        "# Abstract Base Class\n",
        "class PaymentProcessor(ABC):\n",
        "    @abstractmethod\n",
        "    def process_payment(self, amount):\n",
        "        \"\"\"Process the payment of the given amount.\"\"\"\n",
        "        pass\n",
        "\n",
        "# Concrete Class 1: Credit Card Payment\n",
        "class CreditCardPayment(PaymentProcessor):\n",
        "    def process_payment(self, amount):\n",
        "        print(f\"Processing credit card payment of ${amount}\")\n",
        "\n",
        "# Concrete Class 2: PayPal Payment\n",
        "class PayPalPayment(PaymentProcessor):\n",
        "    def process_payment(self, amount):\n",
        "        print(f\"Processing PayPal payment of ${amount}\")\n",
        "\n",
        "# Concrete Class 3: Bitcoin Payment\n",
        "class BitcoinPayment(PaymentProcessor):\n",
        "    def process_payment(self, amount):\n",
        "        print(f\"Processing Bitcoin payment of ${amount}\")\n",
        "\n",
        "# Usage\n",
        "def process_transaction(payment_method: PaymentProcessor, amount: float):\n",
        "    payment_method.process_payment(amount)\n",
        "\n",
        "# Creating instances of different payment methods\n",
        "credit_card = CreditCardPayment()\n",
        "paypal = PayPalPayment()\n",
        "bitcoin = BitcoinPayment()\n",
        "\n",
        "# Processing payments through the common interface\n",
        "process_transaction(credit_card, 100.00)\n",
        "process_transaction(paypal, 200.50)\n",
        "process_transaction(bitcoin, 0.05)\n"
      ],
      "metadata": {
        "colab": {
          "base_uri": "https://localhost:8080/"
        },
        "id": "M8LtwY97y1Dy",
        "outputId": "86387353-f70c-4a41-acd7-954d2a0324c8"
      },
      "execution_count": 14,
      "outputs": [
        {
          "output_type": "stream",
          "name": "stdout",
          "text": [
            "Processing credit card payment of $100.0\n",
            "Processing PayPal payment of $200.5\n",
            "Processing Bitcoin payment of $0.05\n"
          ]
        }
      ]
    },
    {
      "cell_type": "code",
      "source": [
        "# Q42. How does Python achieve polymorphism through method overriding.\n",
        "\n",
        "# Ans.\n",
        "\n",
        "# Method overriding in Python allows a subclass to provide a specific implementation for a method that is already defined in its superclass.\n",
        "# This enables the subclass to customize the behavior of the inherited method while maintaining a common interface.\n",
        "\n",
        "# Python achieves polymorphism through method overriding by allowing subclasses to redefine methods inherited from their parent classes.\n",
        "#  When you call a method on an object,\n",
        "# Python first checks the object's class for a definition of that method. If it's found, that method is executed.\n",
        "# If not, Python checks the parent class, then its parent,\n",
        "# and so on until a definition is located or the search reaches the top of the inheritance hierarchy.  This allows the specific implementation\n",
        "# in the subclass to override the more general implementation in the superclass, leading to polymorphic behavior.\n",
        "\n",
        "# Example:\n",
        "\n",
        "from abc import ABC, abstractmethod\n",
        "\n",
        "class Shape(ABC):\n",
        "    @abstractmethod\n",
        "    def area(self):\n",
        "        pass\n",
        "\n",
        "class Circle(Shape):\n",
        "    def __init__(self, radius):\n",
        "        self.radius = radius\n",
        "    def area(self):\n",
        "        return 3.14159 * self.radius * self.radius\n",
        "\n",
        "class Square(Shape):\n",
        "    def __init__(self, side):\n",
        "        self.side = side\n",
        "    def area(self):\n",
        "        return self.side * self.side\n",
        "\n",
        "# Create objects of different shapes\n",
        "circle = Circle(5)\n",
        "square = Square(4)\n",
        "\n",
        "# Call the area() method on each object – polymorphic behavior\n",
        "print(circle.area())  # Output: 78.53975\n",
        "print(square.area())  # Output: 16\n"
      ],
      "metadata": {
        "id": "HfymiOUsy17d",
        "colab": {
          "base_uri": "https://localhost:8080/"
        },
        "outputId": "d0b56951-5093-4eec-a1f6-486b4c2768c8"
      },
      "execution_count": 15,
      "outputs": [
        {
          "output_type": "stream",
          "name": "stdout",
          "text": [
            "78.53975\n",
            "16\n"
          ]
        }
      ]
    },
    {
      "cell_type": "code",
      "source": [
        "# Q43. Define a base class with a method and a subclass that overrides the method.\n",
        "\n",
        "# Ans. Below is an example of method overriding in Python using a base class and a subclass.\n",
        "# Base class\n",
        "class Vehicle:\n",
        "    def start_engine(self):\n",
        "        return \"Engine is starting...\"\n",
        "\n",
        "# Subclass overriding the method\n",
        "class Car(Vehicle):\n",
        "    def start_engine(self):\n",
        "        return \"Car engine is starting with a roar!\"\n",
        "\n",
        "# Creating instances\n",
        "vehicle = Vehicle()\n",
        "car = Car()\n",
        "\n",
        "# Calling the method\n",
        "print(vehicle.start_engine())  # Output: Engine is starting...\n",
        "print(car.start_engine())      # Output: Car engine is starting with a roar!\n"
      ],
      "metadata": {
        "colab": {
          "base_uri": "https://localhost:8080/"
        },
        "id": "n21GFzRU0qc1",
        "outputId": "489118a0-4e24-4f9f-fe44-f9b4b0f1e76b"
      },
      "execution_count": null,
      "outputs": [
        {
          "output_type": "stream",
          "name": "stdout",
          "text": [
            "Engine is starting...\n",
            "Car engine is starting with a roar!\n"
          ]
        }
      ]
    },
    {
      "cell_type": "code",
      "source": [
        "# Q44. Define a base class and multiple subclasses with overridden methods.\n",
        "\n",
        "# Ans. Below is an example where a base class has a method that is overridden by multiple subclasses,\n",
        "# demonstrating method overriding and polymorphism.\n",
        "\n",
        "# Base Class\n",
        "class Animal:\n",
        "    def make_sound(self):\n",
        "        return \"Some generic sound\"\n",
        "\n",
        "# Subclass 1: Dog\n",
        "class Dog(Animal):\n",
        "    def make_sound(self):\n",
        "        return \"Bark\"\n",
        "\n",
        "# Subclass 2: Cat\n",
        "class Cat(Animal):\n",
        "    def make_sound(self):\n",
        "        return \"Meow\"\n",
        "\n",
        "# Subclass 3: Cow\n",
        "class Cow(Animal):\n",
        "    def make_sound(self):\n",
        "        return \"Moo\"\n",
        "\n",
        "# Function demonstrating polymorphism\n",
        "def animal_sound(animal):\n",
        "    print(animal.make_sound())\n",
        "\n",
        "# Creating instances of different subclasses\n",
        "dog = Dog()\n",
        "cat = Cat()\n",
        "cow = Cow()\n",
        "\n",
        "# Using polymorphism: Each subclass overrides the make_sound method differently\n",
        "animal_sound(dog)  # Output: Bark\n",
        "animal_sound(cat)  # Output: Meow\n",
        "animal_sound(cow)  # Output: Moo\n"
      ],
      "metadata": {
        "colab": {
          "base_uri": "https://localhost:8080/"
        },
        "id": "OhzHyosp0upX",
        "outputId": "64df3d7f-469c-4fe6-dd6e-0364f8f9623b"
      },
      "execution_count": null,
      "outputs": [
        {
          "output_type": "stream",
          "name": "stdout",
          "text": [
            "Bark\n",
            "Meow\n",
            "Moo\n"
          ]
        }
      ]
    },
    {
      "cell_type": "code",
      "source": [
        "\n",
        "# Q45. How does polymorphism improve code readability and reusability?\n",
        "\n",
        "# Ans. Polymorphism, meaning \"many forms,\" is a powerful OOP concept that enhances both code readability and reusability.\n",
        "\n",
        "# Readability:\n",
        "\n",
        "# 1. Simplified Interfaces: Polymorphism allows you to interact with objects of different classes through a common interface.\n",
        "#    This means you can write code that works with various object types without needing to know their specific class. This simplification makes\n",
        "#    the code easier to read and understand, as the focus is on the common behavior rather than the specific implementation details of each class.\n",
        "\n",
        "\n",
        "# 2. Reduced Complexity: By abstracting away the specific implementations, polymorphic code avoids complex conditional statements (e.g., if-else or\n",
        "#    switch statements) that would otherwise be needed to handle different object types separately. This makes the code more concise and easier to follow.\n",
        "\n",
        "\n",
        "# Reusability:\n",
        "\n",
        "# 1. Extensibility: Polymorphic code is naturally more extensible.  You can easily add new classes that implement the same interface without modifying\n",
        "#     existing code.  This is because the code interacts with objects based on their common interface, not on their specific classes.  This leads to\n",
        "#     more robust and adaptable software.\n",
        "\n",
        "# 2. Code Flexibility: Polymorphism allows you to substitute one object type for another without impacting the overall program functionality.  This is\n",
        "#     useful when you need to swap out different implementations at runtime or when you want to easily change how the program behaves without changing\n",
        "#     the underlying code structure.\n",
        "\n",
        "# Example:\n",
        "\n",
        "\n",
        "from abc import ABC, abstractmethod\n",
        "\n",
        "class Shape(ABC):\n",
        "    @abstractmethod\n",
        "    def area(self):\n",
        "        pass\n",
        "\n",
        "class Circle(Shape):\n",
        "    def __init__(self, radius):\n",
        "        self.radius = radius\n",
        "    def area(self):\n",
        "        return 3.14 * self.radius * self.radius\n",
        "\n",
        "class Square(Shape):\n",
        "    def __init__(self, side):\n",
        "        self.side = side\n",
        "    def area(self):\n",
        "        return self.side * self.side\n",
        "\n",
        "# Function that works with any Shape object (polymorphic)\n",
        "def calculate_area(shape):\n",
        "    return shape.area()\n",
        "\n",
        "# Using the function with different shapes without worrying about the specific implementation\n",
        "circle = Circle(5)\n",
        "square = Square(4)\n",
        "print(f\"Area of circle: {calculate_area(circle)}\") # Output: 78.5\n",
        "print(f\"Area of square: {calculate_area(square)}\") # Output: 16\n",
        "\n",
        "# In the example, `calculate_area` works seamlessly with both `Circle` and `Square` because both implement the `area()` method as\n",
        "# defined by the `Shape` interface.\n",
        "# This is the essence of polymorphism – treating objects of different types uniformly based on a shared interface.\n"
      ],
      "metadata": {
        "colab": {
          "base_uri": "https://localhost:8080/"
        },
        "id": "QxNmh7cPNxux",
        "outputId": "871fd4a4-c606-4c48-abd2-d9e61e3a6ba0"
      },
      "execution_count": 16,
      "outputs": [
        {
          "output_type": "stream",
          "name": "stdout",
          "text": [
            "Area of circle: 78.5\n",
            "Area of square: 16\n"
          ]
        }
      ]
    },
    {
      "cell_type": "code",
      "source": [
        "# Q46. Describe how Python supports polymorphism with duck typing.\n",
        "\n",
        "# Ans. In Python, duck typing is a concept that plays a crucial role in achieving polymorphism.\n",
        "# The principle of duck typing is that if an object behaves like a certain type (has the necessary methods and properties),\n",
        "# then it can be used as that type—regardless of the actual class it belongs to. This allows for flexible and dynamic code.\n",
        "\n",
        "# The term \"duck typing\" comes from the saying, \"If it looks like a duck, swims like a duck, and quacks like a duck, it probably is a duck.\"\n",
        "\n",
        "# In other words, Python doesn’t require objects to explicitly declare the type they are supposed to be. Instead,\n",
        "# it relies on their behavior (i.e., whether they implement the necessary methods) to decide how they can be used.\n",
        "# Class 1: Dog\n",
        "class Dog:\n",
        "    def speak(self):\n",
        "        return \"Woof!\"\n",
        "\n",
        "# Class 2: Cat\n",
        "class Cat:\n",
        "    def speak(self):\n",
        "        return \"Meow!\"\n",
        "\n",
        "# Class 3: Duck (In this case, it literally \"quacks\")\n",
        "class Duck:\n",
        "    def speak(self):\n",
        "        return \"Quack!\"\n",
        "\n",
        "# A function that expects any object with a `speak()` method\n",
        "def animal_sound(animal):\n",
        "    print(animal.speak())\n",
        "\n",
        "# Create instances of different classes\n",
        "dog = Dog()\n",
        "cat = Cat()\n",
        "duck = Duck()\n",
        "\n",
        "# Using duck typing: the function doesn't care about the type of animal,\n",
        "# just that it has a `speak()` method.\n",
        "animal_sound(dog)  # Output: Woof!\n",
        "animal_sound(cat)  # Output: Meow!\n",
        "animal_sound(duck) # Output: Quack!\n"
      ],
      "metadata": {
        "colab": {
          "base_uri": "https://localhost:8080/"
        },
        "id": "hQfCUY7U62yk",
        "outputId": "5247b89f-8f24-4c26-e96d-2ca6106f243e"
      },
      "execution_count": 17,
      "outputs": [
        {
          "output_type": "stream",
          "name": "stdout",
          "text": [
            "Woof!\n",
            "Meow!\n",
            "Quack!\n"
          ]
        }
      ]
    },
    {
      "cell_type": "code",
      "source": [
        "# Q47. How do you achieve encapsulation in Python?\n",
        "\n",
        "# Ans. Encapsulation in Python is achieved by using access modifiers (public, protected, and private) to control the visibility and accessibility of class members (attributes and methods).  While Python doesn't enforce strict access control like some other languages (e.g., Java or C++), conventions are used to signal the intended level of access.\n",
        "\n",
        "# 1. Public Members:  These members are accessible from anywhere (inside or outside the class).  No special naming convention is used.\n",
        "\n",
        "\n",
        "class MyClass:\n",
        "    def __init__(self, value):\n",
        "        self.public_attribute = value  # Public attribute\n",
        "\n",
        "    def public_method(self):\n",
        "        print(\"Public method\")\n",
        "\n",
        "# Accessing public members\n",
        "obj = MyClass(10)\n",
        "print(obj.public_attribute)  # Accessing public attribute\n",
        "obj.public_method()         # Calling public method\n",
        "\n",
        "\n",
        "# 2. Protected Members:  These members are intended for internal use within the class and its subclasses.\n",
        "#  The convention is to prefix the member name with a single underscore (_).  Python doesn't actually prevent access to\n",
        "# protected members from outside the class, but it signals to developers that these members should not be directly accessed.\n",
        "\n",
        "class MyClass:\n",
        "    def __init__(self, value):\n",
        "        self._protected_attribute = value\n",
        "\n",
        "    def _protected_method(self):\n",
        "        print(\"Protected method\")\n",
        "\n",
        "# Accessing (though not recommended)\n",
        "obj = MyClass(20)\n",
        "print(obj._protected_attribute)\n",
        "obj._protected_method()\n",
        "\n",
        "\n",
        "# 3. Private Members: These members are intended for exclusive use within the class itself.\n",
        "#  The convention is to prefix the member name with double underscores (__).  Python performs name mangling on private members, making\n",
        "# them slightly harder to access from outside the class (but not impossible).\n",
        "\n",
        "class MyClass:\n",
        "    def __init__(self, value):\n",
        "        self.__private_attribute = value\n",
        "\n",
        "    def __private_method(self):\n",
        "        print(\"Private method\")\n",
        "\n",
        "# Accessing (difficult, but possible – name mangling)\n",
        "obj = MyClass(30)\n",
        "# print(obj.__private_attribute)  # This will raise an AttributeError\n",
        "print(obj._MyClass__private_attribute)  # Accessing via name mangling\n",
        "#obj.__private_method() # This will raise an AttributeError\n",
        "obj._MyClass__private_method() # Accessing via name mangling\n",
        "\n",
        "\n",
        "# Note on Access Control in Python\n",
        "\n",
        "# Python's access control is primarily based on convention rather than strict enforcement.\n",
        "# This is a design decision in Python to promote flexibility, but it means that developers must be more careful in following naming conventions to\n",
        "# ensure code maintainability and prevent unintended access to class members.\n"
      ],
      "metadata": {
        "id": "3weqv0ro77UH",
        "colab": {
          "base_uri": "https://localhost:8080/"
        },
        "outputId": "1c29e494-c89c-47db-a16d-fd4c6a3c217e"
      },
      "execution_count": 18,
      "outputs": [
        {
          "output_type": "stream",
          "name": "stdout",
          "text": [
            "10\n",
            "Public method\n",
            "20\n",
            "Protected method\n",
            "30\n",
            "Private method\n"
          ]
        }
      ]
    },
    {
      "cell_type": "code",
      "source": [
        "# Q48. Can encapsulation be bypassed in Python? If so, how?\n",
        "\n",
        "# Ans. Yes, encapsulation can be bypassed in Python, but it requires deliberate effort.\n",
        "# Python's philosophy of \"we're all consenting adults here\" means that the language does not enforce strict access control like other languages (e.g., Java or C++) do. Instead, it relies on conventions (such as single and double underscores) to signal the intended access level for attributes and methods.\n",
        "\n",
        "# Let’s go through how encapsulation can be bypassed in Python.\n",
        "class Car:\n",
        "    def __init__(self, make, model):\n",
        "        self._make = make  # Protected attribute\n",
        "        self._model = model  # Protected attribute\n",
        "\n",
        "car = Car(\"Toyota\", \"Corolla\")\n",
        "\n",
        "# Even though '_make' is intended to be protected, we can access it directly.\n",
        "print(car._make)  # Output: Toyota\n"
      ],
      "metadata": {
        "colab": {
          "base_uri": "https://localhost:8080/"
        },
        "id": "lI7MkCrG8Y09",
        "outputId": "9358ce48-a109-464d-ad0f-5f943bab4100"
      },
      "execution_count": null,
      "outputs": [
        {
          "output_type": "stream",
          "name": "stdout",
          "text": [
            "Toyota\n"
          ]
        }
      ]
    },
    {
      "cell_type": "code",
      "source": [
        "# Q49. Implement a class BankAccount with a private balance attribute. Include methods to deposit, withdraw,\n",
        "# and check the balance.\n",
        "\n",
        "# Ans.\n",
        "# Here’s how you can implement a BankAccount class in Python with a private balance attribute.\n",
        "#  The class will include methods for deposit, withdraw, and check balance while maintaining encapsulation by keeping the balance private.\n",
        "class BankAccount:\n",
        "    def __init__(self, owner, initial_balance=0):\n",
        "        # Initialize the bank account with the owner's name and balance\n",
        "        self.owner = owner\n",
        "        self.__balance = initial_balance  # Private balance attribute\n",
        "\n",
        "    def deposit(self, amount):\n",
        "        \"\"\"Deposit money into the account.\"\"\"\n",
        "        if amount > 0:\n",
        "            self.__balance += amount\n",
        "            print(f\"Deposited ${amount}. New balance: ${self.__balance}\")\n",
        "        else:\n",
        "            print(\"Deposit amount must be positive.\")\n",
        "\n",
        "    def withdraw(self, amount):\n",
        "        \"\"\"Withdraw money from the account.\"\"\"\n",
        "        if 0 < amount <= self.__balance:\n",
        "            self.__balance -= amount\n",
        "            print(f\"Withdrew ${amount}. New balance: ${self.__balance}\")\n",
        "        else:\n",
        "            print(\"Invalid withdrawal amount or insufficient funds.\")\n",
        "\n",
        "    def check_balance(self):\n",
        "        \"\"\"Check the current balance of the account.\"\"\"\n",
        "        return f\"Current balance: ${self.__balance}\"\n",
        "\n",
        "# Example usage:\n",
        "account = BankAccount(\"John\", 1000)\n",
        "\n",
        "# Deposit some money\n",
        "account.deposit(500)  # Deposited $500. New balance: $1500\n",
        "\n",
        "# Withdraw money\n",
        "account.withdraw(300)  # Withdrew $300. New balance: $1200\n",
        "\n",
        "# Check balance\n",
        "print(account.check_balance())  # Output: Current balance: $1200\n",
        "\n",
        "# Attempting to withdraw more than the available balance\n",
        "account.withdraw(1500)  # Invalid withdrawal amount or insufficient funds.\n"
      ],
      "metadata": {
        "colab": {
          "base_uri": "https://localhost:8080/"
        },
        "id": "7EWtYElh9Dvd",
        "outputId": "0d1164c7-5da1-41bb-8f95-3edde8888401"
      },
      "execution_count": null,
      "outputs": [
        {
          "output_type": "stream",
          "name": "stdout",
          "text": [
            "Deposited $500. New balance: $1500\n",
            "Withdrew $300. New balance: $1200\n",
            "Current balance: $1200\n",
            "Invalid withdrawal amount or insufficient funds.\n"
          ]
        }
      ]
    },
    {
      "cell_type": "code",
      "source": [
        "# Q50. Develop a Person class with private attributes name and email, and methods to set and get the email.\n",
        "\n",
        "# Ans. Here’s how you can implement a Person class in Python with private attributes name and email,\n",
        "#  and methods to set and get the email while ensuring encapsulation.\n",
        "class Person:\n",
        "    def __init__(self, name, email):\n",
        "        self.name = name  # Public attribute\n",
        "        self.__email = email  # Private attribute\n",
        "\n",
        "    def set_email(self, email):\n",
        "        \"\"\"Set the email address.\"\"\"\n",
        "        # You can add validation to check if the email is in a correct format\n",
        "        if \"@\" in email and \".\" in email:\n",
        "            self.__email = email\n",
        "            print(f\"Email updated to: {self.__email}\")\n",
        "        else:\n",
        "            print(\"Invalid email format.\")\n",
        "\n",
        "    def get_email(self):\n",
        "        \"\"\"Get the email address.\"\"\"\n",
        "        return self.__email\n",
        "\n",
        "# Example usage:\n",
        "person = Person(\"John Doe\", \"john.doe@example.com\")\n",
        "\n",
        "# Accessing the email using the getter method\n",
        "print(person.get_email())  # Output: john.doe@example.com\n",
        "\n",
        "# Setting a new email using the setter method\n",
        "person.set_email(\"new.email@example.com\")  # Output: Email updated to: new.email@example.com\n",
        "\n",
        "# Attempting to set an invalid email\n",
        "person.set_email(\"invalidemail.com\")  # Output: Invalid email format.\n",
        "\n",
        "# Accessing the updated email using the getter method\n",
        "print(person.get_email())  # Output: new.email@example.com\n"
      ],
      "metadata": {
        "colab": {
          "base_uri": "https://localhost:8080/"
        },
        "id": "U8sicxLO9g0b",
        "outputId": "64e1813d-1a76-419e-8882-00267f2ad4bf"
      },
      "execution_count": null,
      "outputs": [
        {
          "output_type": "stream",
          "name": "stdout",
          "text": [
            "john.doe@example.com\n",
            "Email updated to: new.email@example.com\n",
            "Invalid email format.\n",
            "new.email@example.com\n"
          ]
        }
      ]
    },
    {
      "cell_type": "code",
      "source": [
        "\n",
        "\n",
        "# Q51. Why is encapsulation considered a pillar of object-oriented programming (OOP)?\n",
        "\n",
        "# Ans. Encapsulation is a fundamental principle in object-oriented programming (OOP) because it bundles data (attributes) and the methods (functions) that operate on that data within a single unit, the class.  It plays several key roles:\n",
        "\n",
        "# 1. Data Hiding and Protection:  Encapsulation protects the internal state of an object from unauthorized access or modification.\n",
        "#  By making attributes private or protected, you control how external code can interact with the object, preventing accidental corruption of data.\n",
        "#   This enhances the integrity and reliability of your code.\n",
        "\n",
        "# 2. Abstraction: Encapsulation hides the internal complexity of an object from the outside world.\n",
        "# Users of the object only need to know how to interact with its public interface (methods),\n",
        "# without needing to understand the intricate details of how the object works internally.\n",
        "#  This simplification makes code easier to understand and use.\n",
        "\n",
        "# 3. Modularity and Reusability: Encapsulated classes are modular units that can be reused in different parts of a program or\n",
        "#  even in different projects.  Because the internal workings of a class are hidden, changes made to the internal implementation\n",
        "#  don't necessarily affect how other parts of the code use the class, as long as the public interface remains the same.\n",
        "\n",
        "# 4. Code Maintainability: Encapsulation promotes code maintainability. If you need to modify the internal workings of a class,\n",
        "# you can do so without affecting code that uses the class, provided the public interface remains unchanged.\n",
        "# This reduces the risk of introducing bugs when modifying existing code.\n",
        "\n",
        "# 5. Flexibility: Encapsulation allows you to change the internal implementation of a class without impacting its users,\n",
        "# as long as the public interface (methods) remain consistent.  This promotes flexibility in software design.\n",
        "\n",
        "# In summary, encapsulation is crucial for creating robust, maintainable, and reusable software by protecting data,\n",
        "# simplifying interactions, and promoting modular design.\n"
      ],
      "metadata": {
        "id": "BCGYd_U8-mvj"
      },
      "execution_count": 34,
      "outputs": []
    },
    {
      "cell_type": "code",
      "source": [
        "# Q52. Create a decorator in Python that adds functionality to a simple function by printing a message before\n",
        "# and after the function execution.\n",
        "\n",
        "# Ans. You can create a Python decorator to add functionality to a function by printing a message before and after the function execution.\n",
        "#  Here's how you can do it:\n",
        "def add_messages(func):\n",
        "    \"\"\"A decorator that adds a message before and after the function execution.\"\"\"\n",
        "    def wrapper(*args, **kwargs):\n",
        "        print(\"Before the function execution\")\n",
        "        result = func(*args, **kwargs)  # Call the original function\n",
        "        print(\"After the function execution\")\n",
        "        return result\n",
        "    return wrapper\n",
        "\n",
        "# Example function using the decorator\n",
        "@add_messages\n",
        "def say_hello(name):\n",
        "    print(f\"Hello, {name}!\")\n",
        "\n",
        "# Example usage:\n",
        "say_hello(\"John\")\n"
      ],
      "metadata": {
        "colab": {
          "base_uri": "https://localhost:8080/"
        },
        "id": "nkbw_8KS_Ai0",
        "outputId": "60f3a871-7a81-42ad-ee47-ae998e8a0d8f"
      },
      "execution_count": null,
      "outputs": [
        {
          "output_type": "stream",
          "name": "stdout",
          "text": [
            "Before the function execution\n",
            "Hello, John!\n",
            "After the function execution\n"
          ]
        }
      ]
    },
    {
      "cell_type": "code",
      "source": [
        "# Q53. Modify the decorator to accept arguments and print the function name along with the message.\n",
        "\n",
        "# Ans. To modify the decorator so that it accepts arguments and prints the function name along with the message,\n",
        "#  you can pass the function name and additional arguments to the decorator. Here's how to do it:\n",
        "\n",
        "def add_messages_with_args(func):\n",
        "    \"\"\"A decorator that adds a message with the function name before and after the function execution.\"\"\"\n",
        "    def wrapper(*args, **kwargs):\n",
        "        print(f\"Before calling function: {func.__name__}\")  # Print the function name\n",
        "        result = func(*args, **kwargs)  # Call the original function\n",
        "        print(f\"After calling function: {func.__name__}\")  # Print the function name\n",
        "        return result\n",
        "    return wrapper\n",
        "\n",
        "# Example function using the modified decorator\n",
        "@add_messages_with_args\n",
        "def say_hello(name):\n",
        "    print(f\"Hello, {name}!\")\n",
        "\n",
        "# Example usage:\n",
        "say_hello(\"John\")\n"
      ],
      "metadata": {
        "colab": {
          "base_uri": "https://localhost:8080/"
        },
        "id": "uk8bgO2X_V0b",
        "outputId": "99653d3d-b41c-4ac7-e190-025f6a60e3da"
      },
      "execution_count": null,
      "outputs": [
        {
          "output_type": "stream",
          "name": "stdout",
          "text": [
            "Before calling function: say_hello\n",
            "Hello, John!\n",
            "After calling function: say_hello\n"
          ]
        }
      ]
    },
    {
      "cell_type": "code",
      "source": [
        "# Q54. Create two decorators, and apply them to a single function. Ensure that they execute in the order they are\n",
        "# applied.\n",
        "\n",
        "# Ans. You can create two decorators and apply them to a single function, ensuring that they execute in the order they are applied.\n",
        "# Decorators in Python are applied from bottom to top, meaning that the decorator closest to the function definition is executed first.\n",
        "def greeting_decorator(func):\n",
        "    \"\"\"Decorator that prints a greeting message before the function execution.\"\"\"\n",
        "    def wrapper(*args, **kwargs):\n",
        "        print(\"Hello! Welcome to the function.\")\n",
        "        return func(*args, **kwargs)\n",
        "    return wrapper\n",
        "\n",
        "def farewell_decorator(func):\n",
        "    \"\"\"Decorator that prints a farewell message after the function execution.\"\"\"\n",
        "    def wrapper(*args, **kwargs):\n",
        "        result = func(*args, **kwargs)\n",
        "        print(\"Goodbye! Thanks for using the function.\")\n",
        "        return result\n",
        "    return wrapper\n",
        "\n",
        "# Applying both decorators to the same function\n",
        "@greeting_decorator\n",
        "@farewell_decorator\n",
        "def say_hello(name):\n",
        "    print(f\"Hello, {name}!\")\n",
        "\n",
        "# Example usage:\n",
        "say_hello(\"John\")\n"
      ],
      "metadata": {
        "colab": {
          "base_uri": "https://localhost:8080/"
        },
        "id": "OeDC8mo4_wdR",
        "outputId": "06fbbc48-2903-464e-b762-e4de658b0e0a"
      },
      "execution_count": null,
      "outputs": [
        {
          "output_type": "stream",
          "name": "stdout",
          "text": [
            "Hello! Welcome to the function.\n",
            "Hello, John!\n",
            "Goodbye! Thanks for using the function.\n"
          ]
        }
      ]
    },
    {
      "cell_type": "code",
      "source": [
        "# Q55. Modify the decorator to accept and pass function arguments to the wrapped function.\n",
        "\n",
        "# Ans. To modify a decorator so that it can accept and pass function arguments to the wrapped function,\n",
        "# you need to ensure that the decorator is designed to take the arguments passed to the wrapped function.\n",
        "#  Here’s how you can modify a simple decorator to do this:\n",
        "def my_decorator(func):\n",
        "    def wrapper(*args, **kwargs):\n",
        "        # You can modify or print arguments here if needed\n",
        "        print(\"Before calling the function\")\n",
        "        result = func(*args, **kwargs)  # Call the wrapped function with the passed arguments\n",
        "        print(\"After calling the function\")\n",
        "        return result\n",
        "    return wrapper\n"
      ],
      "metadata": {
        "id": "rKEBurliAHue"
      },
      "execution_count": 35,
      "outputs": []
    },
    {
      "cell_type": "code",
      "source": [
        "# Q56. Create a decorator that preserves the metadata of the original function.\n",
        "\n",
        "# Ans. To create a decorator that preserves the metadata (such as the function name, docstring, and other attributes)\n",
        "# of the original function, you can use the functools.wraps utility from the functools module.\n",
        "# The wraps function helps ensure that the wrapped function retains the original function's metadata.\n",
        "\n",
        "# Here’s how you can create such a decorator:\n",
        "import functools\n",
        "\n",
        "def preserve_metadata(func):\n",
        "    @functools.wraps(func)  # This will preserve the metadata of `func`\n",
        "    def wrapper(*args, **kwargs):\n",
        "        print(\"Before calling the function\")\n",
        "        result = func(*args, **kwargs)\n",
        "        print(\"After calling the function\")\n",
        "        return result\n",
        "    return wrapper\n"
      ],
      "metadata": {
        "id": "N2EfjbY_AXwg"
      },
      "execution_count": 36,
      "outputs": []
    },
    {
      "cell_type": "code",
      "source": [
        "\n",
        "# Q57. Create a Python class `Calculator` with a static method `add` that takes in two numbers and returns their\n",
        "# sum.\n",
        "\n",
        "# Ans. Here is how you can create a Python class Calculator with a static method add that takes two numbers and returns their sum:class Calculator:\n",
        "\n",
        "@staticmethod\n",
        "def add(a, b):\n",
        "  return a + b\n"
      ],
      "metadata": {
        "id": "9C7Z5aL9Atyz"
      },
      "execution_count": 39,
      "outputs": []
    },
    {
      "cell_type": "code",
      "source": [
        "# Q58. Create a Python class `Employee` with a class `method get_employee_count` that returns the total\n",
        "# number of employees created.\n",
        "\n",
        "# Ans. To create a class Employee with a class method get_employee_count that returns the total number of employees created,\n",
        "#  you can keep track of the number of instances created using a class variable.\n",
        "#  The class method will access this variable to return the total count of employees.\n",
        "\n",
        "# Here’s the implementation:\n",
        "class Employee:\n",
        "    # Class variable to keep track of the total employee count\n",
        "    employee_count = 0\n",
        "\n",
        "    def __init__(self, name, position):\n",
        "        self.name = name\n",
        "        self.position = position\n",
        "        # Increment the employee count each time a new employee is created\n",
        "        Employee.employee_count += 1\n",
        "\n",
        "    @classmethod\n",
        "    def get_employee_count(cls):\n",
        "        # Return the total number of employees\n",
        "        return cls.employee_count\n"
      ],
      "metadata": {
        "id": "-ayB5pcCBLfv"
      },
      "execution_count": 40,
      "outputs": []
    },
    {
      "cell_type": "code",
      "source": [
        "# Q59. Create a Python class `StringFormatter` with a static method `reverse_string` that takes a string as input\n",
        "# and returns its reverse.\n",
        "\n",
        "# Ans. Here is how you can create a Python class StringFormatter with a static method reverse_string that takes a\n",
        "# string as input and returns its reverse:\n",
        "# class StringFormatter:\n",
        "@staticmethod\n",
        "def reverse_string(input_string):\n",
        "  return input_string[::-1]\n"
      ],
      "metadata": {
        "id": "p1rIafceBeNg"
      },
      "execution_count": 42,
      "outputs": []
    },
    {
      "cell_type": "code",
      "source": [
        "# Q60. Create a Python class `Circle` with a class method `calculate_area` that calculates the area of a circle\n",
        "# given its radius.\n",
        "\n",
        "# Ans.\n",
        "# Here’s how you can create a Python class Circle with a class method calculate_area that calculates the area of a circle given its radius:\n",
        "import math\n",
        "\n",
        "class Circle:\n",
        "    @classmethod\n",
        "    def calculate_area(cls, radius):\n",
        "        return math.pi * radius ** 2\n"
      ],
      "metadata": {
        "id": "-U0JfZwbBvL3"
      },
      "execution_count": 43,
      "outputs": []
    },
    {
      "cell_type": "code",
      "source": [
        "# Q61. Create a Python class `TemperatureConverter` with a static method `celsius_to_fahrenheit` that converts\n",
        "# Celsius to Fahrenheit.\n",
        "\n",
        "# Ans. Here’s how you can create a Python class TemperatureConverter with a static method celsius_to_fahrenheit that converts Celsius to Fahrenheit:\n",
        "# class TemperatureConverter:\n",
        "@staticmethod\n",
        "def celsius_to_fahrenheit(celsius):\n",
        "  return (celsius * 9/5) + 32\n"
      ],
      "metadata": {
        "id": "WKCGxi-aB_jQ"
      },
      "execution_count": 45,
      "outputs": []
    },
    {
      "cell_type": "code",
      "source": [
        "# Q62. What is the purpose of the __str__() method in Python classes? Provide an example.\n",
        "\n",
        "# Ans. The __str__() method in Python classes is used to define a string representation of an object. This method is called when you use print() or str() on an object, and it returns a human-readable string that describes the object.\n",
        "\n",
        "# If the __str__() method is not defined in a class, the default string representation will be something like <__main__.ClassName object at memory_address>, which is not very user-friendly.\n",
        "\n",
        "# By overriding __str__(), you can return a more meaningful and descriptive string for the object.\n",
        "class Person:\n",
        "    def __init__(self, name, age):\n",
        "        self.name = name\n",
        "        self.age = age\n",
        "\n",
        "    def __str__(self):\n",
        "        return f\"Person(Name: {self.name}, Age: {self.age})\"\n",
        "\n",
        "# Creating an instance of the Person class\n",
        "person = Person(\"Alice\", 30)\n",
        "\n",
        "# Using print() or str() to get the string representation of the object\n",
        "print(person)  # Outputs: Person(Name: Alice, Age: 30)\n"
      ],
      "metadata": {
        "colab": {
          "base_uri": "https://localhost:8080/"
        },
        "id": "O1HxMAkGCUv1",
        "outputId": "4760df58-81c8-4361-d058-697f89ce03a1"
      },
      "execution_count": 19,
      "outputs": [
        {
          "output_type": "stream",
          "name": "stdout",
          "text": [
            "Person(Name: Alice, Age: 30)\n"
          ]
        }
      ]
    },
    {
      "cell_type": "code",
      "source": [
        "# Q63. How does the __len__() method work in Python? Provide an example.\n",
        "\n",
        "# Ans. The __len__() method in Python is used to define the behavior of the len() function when it is called on an object.\n",
        "#  By implementing this method in a class, you allow instances of the class to return a meaningful length value, similar to how len() works\n",
        "#  with built-in data structures like lists, strings, and dictionaries.\n",
        "\n",
        "# The __len__() method must return an integer that represents the \"length\" of the object, which can be any concept of size or\n",
        "# quantity (e.g., the number of items, the size of a container, etc.).\n",
        "class Box:\n",
        "    def __init__(self, items):\n",
        "        self.items = items\n",
        "\n",
        "    def __len__(self):\n",
        "        return len(self.items)  # Return the number of items in the box\n",
        "\n",
        "# Creating an instance of the Box class\n",
        "box = Box([\"apple\", \"banana\", \"cherry\"])\n",
        "\n",
        "# Using len() to get the \"length\" of the box\n",
        "print(len(box))  # Outputs: 3 (the number of items in the box)\n"
      ],
      "metadata": {
        "colab": {
          "base_uri": "https://localhost:8080/"
        },
        "id": "e6ucDOMpCuMR",
        "outputId": "6287139d-5259-4f2c-f3e2-aef862ac0061"
      },
      "execution_count": null,
      "outputs": [
        {
          "output_type": "stream",
          "name": "stdout",
          "text": [
            "3\n"
          ]
        }
      ]
    },
    {
      "cell_type": "code",
      "source": [
        "# Q64. Explain the usage of the __add__() method in Python classes. Provide an example.\n",
        "\n",
        "# Ans. The __add__() method in Python is used to define the behavior of the + operator for instances of a class.\n",
        "#  When you use the + operator to add two objects of a class, Python internally calls the __add__() method to determine\n",
        "#  how the objects should be added together.\n",
        "\n",
        "# This method allows you to specify how two instances of your class should behave when added, such as combining values,\n",
        "#  merging objects, or performing arithmetic operations.\n",
        "class Vector:\n",
        "    def __init__(self, x, y):\n",
        "        self.x = x\n",
        "        self.y = y\n",
        "\n",
        "    def __add__(self, other):\n",
        "        if isinstance(other, Vector):\n",
        "            return Vector(self.x + other.x, self.y + other.y)\n",
        "        return NotImplemented\n",
        "\n",
        "    def __str__(self):\n",
        "        return f\"Vector({self.x}, {self.y})\"\n",
        "\n",
        "# Creating two Vector objects\n",
        "v1 = Vector(2, 3)\n",
        "v2 = Vector(4, 1)\n",
        "\n",
        "# Adding the two vectors using the + operator\n",
        "result = v1 + v2\n",
        "\n",
        "print(result)  # Outputs: Vector(6, 4)\n"
      ],
      "metadata": {
        "colab": {
          "base_uri": "https://localhost:8080/"
        },
        "id": "qxh3G0JcC-dC",
        "outputId": "a8efb830-40b0-4f3e-ce81-1483ab86d4c9"
      },
      "execution_count": null,
      "outputs": [
        {
          "output_type": "stream",
          "name": "stdout",
          "text": [
            "Vector(6, 4)\n"
          ]
        }
      ]
    },
    {
      "cell_type": "code",
      "source": [
        "# Q65. What is the purpose of the __getitem__() method in Python? Provide an example.\n",
        "\n",
        "# Ans. The __getitem__() method in Python is used to define how an object behaves when an element is accessed using square brackets ([]).\n",
        "#  It allows you to customize the behavior of indexing, similar to how you access elements in built-in collections like lists or dictionaries.\n",
        "\n",
        "# When you implement the __getitem__() method in your class, you can control how your objects handle indexing and return values based on\n",
        "# the provided index or key.\n",
        "class Book:\n",
        "    def __init__(self, title, chapters):\n",
        "        self.title = title\n",
        "        self.chapters = chapters\n",
        "\n",
        "    def __getitem__(self, index):\n",
        "        return self.chapters[index]\n",
        "\n",
        "# Creating an instance of the Book class\n",
        "book = Book(\"Python Programming\", [\"Introduction\", \"Data Types\", \"Control Flow\", \"Functions\"])\n",
        "\n",
        "# Accessing chapters using the index\n",
        "print(book[0])  # Outputs: Introduction\n",
        "print(book[2])  # Outputs: Control Flow\n"
      ],
      "metadata": {
        "colab": {
          "base_uri": "https://localhost:8080/"
        },
        "id": "7W6wXX9oDNsP",
        "outputId": "c5bb7e6c-0467-4d0b-eeef-13fa00bf3a1a"
      },
      "execution_count": null,
      "outputs": [
        {
          "output_type": "stream",
          "name": "stdout",
          "text": [
            "Introduction\n",
            "Control Flow\n"
          ]
        }
      ]
    },
    {
      "cell_type": "code",
      "source": [
        "# Q66. Explain the usage of the __iter__() and __next__() methods in Python. Provide an example using\n",
        "# iterators.\n",
        "\n",
        "# Ans.The __iter__() and __next__() methods are fundamental components for creating custom iterators in Python.\n",
        "#  They allow an object to be iterated over in a loop, such as with a for loop or when using the next() function.\n",
        "\n",
        "# Key Concepts:\n",
        "\n",
        "# __iter__() is responsible for returning the iterator object itself. This method is required to make an object iterable.\n",
        "#  It initializes the iteration and prepares the object for iteration.\n",
        "# __next__() is used to retrieve the next item from the iterator. If there are no more items,\n",
        "# it raises a StopIteration exception to signal that the iteration is complete.\n",
        "class NumberRange:\n",
        "    def __init__(self, start, end):\n",
        "        self.start = start\n",
        "        self.end = end\n",
        "        self.current = start  # Initialize the current value\n",
        "\n",
        "    def __iter__(self):\n",
        "        # The iterator itself is the object, so return `self`\n",
        "        return self\n",
        "\n",
        "    def __next__(self):\n",
        "        if self.current < self.end:\n",
        "            current_value = self.current\n",
        "            self.current += 1\n",
        "            return current_value\n",
        "        else:\n",
        "            raise StopIteration  # Signal that the iteration is complete\n",
        "\n",
        "# Creating an instance of the iterator\n",
        "num_range = NumberRange(1, 5)\n",
        "\n",
        "# Using the iterator in a for loop\n",
        "for num in num_range:\n",
        "    print(num)\n"
      ],
      "metadata": {
        "colab": {
          "base_uri": "https://localhost:8080/"
        },
        "id": "CPocaSAgD8Xj",
        "outputId": "d435fe37-f611-44d1-fa33-51fcdd0e7213"
      },
      "execution_count": null,
      "outputs": [
        {
          "output_type": "stream",
          "name": "stdout",
          "text": [
            "1\n",
            "2\n",
            "3\n",
            "4\n"
          ]
        }
      ]
    },
    {
      "cell_type": "code",
      "source": [
        "# Q67. What is the purpose of a getter method in Python? Provide an example demonstrating the use of a getter  method using property decorators.\n",
        "\n",
        "class Person:\n",
        "    def __init__(self, name, email):\n",
        "        self.name = name\n",
        "        self.__email = email\n",
        "\n",
        "    @property\n",
        "    def email(self):\n",
        "        \"\"\"Getter method for email using property decorator.\"\"\"\n",
        "        return self.__email\n",
        "\n",
        "    @email.setter\n",
        "    def email(self, new_email):\n",
        "        \"\"\"Setter method for email using property decorator.\"\"\"\n",
        "        if \"@\" in new_email and \".\" in new_email:\n",
        "            self.__email = new_email\n",
        "        else:\n",
        "            print(\"Invalid email format.\")\n",
        "\n",
        "# Example usage\n",
        "person = Person(\"Alice\", \"alice@example.com\")\n",
        "print(person.email)  # Accessing email using the getter\n",
        "\n",
        "person.email = \"bob@example.net\"  # Using the setter\n",
        "print(person.email)\n",
        "\n",
        "person.email = \"invalid_email\" # Using the setter with invalid email\n",
        "person.email\n"
      ],
      "metadata": {
        "colab": {
          "base_uri": "https://localhost:8080/",
          "height": 87
        },
        "id": "zm0Dw1GjTrQF",
        "outputId": "61cd18fe-c27e-49d4-9aa1-463da9c350b6"
      },
      "execution_count": 20,
      "outputs": [
        {
          "output_type": "stream",
          "name": "stdout",
          "text": [
            "alice@example.com\n",
            "bob@example.net\n",
            "Invalid email format.\n"
          ]
        },
        {
          "output_type": "execute_result",
          "data": {
            "text/plain": [
              "'bob@example.net'"
            ],
            "application/vnd.google.colaboratory.intrinsic+json": {
              "type": "string"
            }
          },
          "metadata": {},
          "execution_count": 20
        }
      ]
    },
    {
      "cell_type": "code",
      "source": [
        "# Q68. Explain the role of setter methods in Python. Demonstrate how to use a setter method to modify a class\n",
        "# attribute using property decorators.\n",
        "\n",
        "class Person:\n",
        "    def __init__(self, name, email):\n",
        "        self.name = name\n",
        "        self.__email = email\n",
        "\n",
        "    @property\n",
        "    def email(self):\n",
        "        \"\"\"Getter method for email using property decorator.\"\"\"\n",
        "        return self.__email\n",
        "\n",
        "    @email.setter\n",
        "    def email(self, new_email):\n",
        "        \"\"\"Setter method for email using property decorator.\"\"\"\n",
        "        if \"@\" in new_email and \".\" in new_email:\n",
        "            self.__email = new_email\n",
        "            print(f\"Email updated to: {self.__email}\")\n",
        "        else:\n",
        "            print(\"Invalid email format.\")\n",
        "\n",
        "# Example usage\n",
        "person = Person(\"Alice\", \"alice@example.com\")\n",
        "print(person.email)  # Accessing email using the getter\n",
        "\n",
        "person.email = \"bob@example.net\"  # Using the setter\n",
        "print(person.email)\n",
        "\n",
        "person.email = \"invalid_email\" # Using the setter with invalid email\n",
        "person.email\n"
      ],
      "metadata": {
        "colab": {
          "base_uri": "https://localhost:8080/",
          "height": 104
        },
        "id": "4YW38bkqT3zO",
        "outputId": "f6a084dc-4cef-445c-cdf4-4c0f9d2642ed"
      },
      "execution_count": 21,
      "outputs": [
        {
          "output_type": "stream",
          "name": "stdout",
          "text": [
            "alice@example.com\n",
            "Email updated to: bob@example.net\n",
            "bob@example.net\n",
            "Invalid email format.\n"
          ]
        },
        {
          "output_type": "execute_result",
          "data": {
            "text/plain": [
              "'bob@example.net'"
            ],
            "application/vnd.google.colaboratory.intrinsic+json": {
              "type": "string"
            }
          },
          "metadata": {},
          "execution_count": 21
        }
      ]
    },
    {
      "cell_type": "code",
      "source": [
        "# Q69. What is the purpose of the @property decorator in Python? Provide an example illustrating its usage.\n",
        "\n",
        "# Ans. The `@property` decorator in Python allows you to define methods that can be accessed like attributes.\n",
        "# This is useful for controlling access to an object's internal data, implementing getters and setters,\n",
        "# and creating computed properties (attributes whose values are calculated on demand).\n",
        "\n",
        "# Example:\n",
        "\n",
        "class Circle:\n",
        "    def __init__(self, radius):\n",
        "        self._radius = radius  # Note the underscore, indicating a \"protected\" attribute\n",
        "\n",
        "    @property\n",
        "    def radius(self):\n",
        "        \"\"\"Getter method for the radius attribute.\"\"\"\n",
        "        print(\"Getting radius...\")  # You can add logic here (e.g., logging)\n",
        "        return self._radius\n",
        "\n",
        "    @radius.setter\n",
        "    def radius(self, value):\n",
        "        \"\"\"Setter method for the radius attribute.\"\"\"\n",
        "        if value >= 0:\n",
        "            print(\"Setting radius...\") # You can add logic here (e.g., validation)\n",
        "            self._radius = value\n",
        "        else:\n",
        "            raise ValueError(\"Radius cannot be negative.\")\n",
        "\n",
        "    @property\n",
        "    def diameter(self):\n",
        "      \"\"\"Diameter is a computed property.\"\"\"\n",
        "      return 2 * self._radius\n",
        "\n",
        "# Usage\n",
        "my_circle = Circle(5)\n",
        "\n",
        "# Access the radius using the getter method (looks like an attribute access)\n",
        "print(my_circle.radius)  # Output: 5\n",
        "\n",
        "# Modify the radius using the setter method\n",
        "my_circle.radius = 7\n",
        "print(my_circle.radius)  # Output: 7\n",
        "\n",
        "# Access the computed property diameter\n",
        "print(my_circle.diameter) # Output: 14\n",
        "\n",
        "# Attempt to set a negative radius (will raise an error)\n",
        "try:\n",
        "    my_circle.radius = -2\n",
        "except ValueError as e:\n",
        "    print(e) # Output: Radius cannot be negative.\n"
      ],
      "metadata": {
        "id": "FP6peZBfGRtB",
        "colab": {
          "base_uri": "https://localhost:8080/"
        },
        "outputId": "15b3655a-9d09-4721-a05a-c55f2a9e59cf"
      },
      "execution_count": 22,
      "outputs": [
        {
          "output_type": "stream",
          "name": "stdout",
          "text": [
            "Getting radius...\n",
            "5\n",
            "Setting radius...\n",
            "Getting radius...\n",
            "7\n",
            "14\n",
            "Radius cannot be negative.\n"
          ]
        }
      ]
    },
    {
      "cell_type": "code",
      "source": [
        "# Q70.Explain the use of the @deleter decorator in Python property decorators. Provide a code example\n",
        "# demonstrating its application.\n",
        "\n",
        "class MyClass:\n",
        "    def __init__(self, value):\n",
        "        self._value = value\n",
        "\n",
        "    @property\n",
        "    def value(self):\n",
        "        return self._value\n",
        "\n",
        "    @value.deleter\n",
        "    def value(self):\n",
        "        print(\"Deleting value...\")\n",
        "        del self._value\n",
        "\n",
        "# Example usage\n",
        "obj = MyClass(10)\n",
        "print(obj.value)  # Output: 10\n",
        "\n",
        "del obj.value  # Calls the deleter method\n",
        "# print(obj.value)  # This will now raise an AttributeError because _value has been deleted\n"
      ],
      "metadata": {
        "id": "AyDHepKOGzbT",
        "colab": {
          "base_uri": "https://localhost:8080/"
        },
        "outputId": "f03ab37e-bab4-4592-82b0-ac3517e56e5f"
      },
      "execution_count": 23,
      "outputs": [
        {
          "output_type": "stream",
          "name": "stdout",
          "text": [
            "10\n",
            "Deleting value...\n"
          ]
        }
      ]
    },
    {
      "cell_type": "code",
      "source": [
        "\n",
        "# Q71. How does encapsulation relate to property decorators in Python? Provide an example showcasing encapsulation using property decorators.\n",
        "\n",
        "# Ans. Encapsulation in Python, and object-oriented programming in general, is the bundling of data (attributes) and the methods that operate on that data within a class.\n",
        "# It's a way to protect the internal state of an object from unauthorized access or modification. Property decorators in Python enhance encapsulation by providing a controlled way to access and modify attributes.\n",
        "\n",
        "# Property decorators (@property, @<attribute_name>.setter, @<attribute_name>.deleter) allow you to define getter, setter, and deleter methods that are called when you access, modify, or delete an attribute. This indirect access allows you to implement validation, data transformation, and other logic before actually interacting with the underlying attribute.\n",
        "\n",
        "# Here's an example demonstrating how property decorators support encapsulation:\n",
        "class Person:\n",
        "    def __init__(self, name, age):\n",
        "        self._name = name  # Note the underscore: a convention to indicate a \"protected\" attribute\n",
        "        self._age = age\n",
        "\n",
        "    @property\n",
        "    def age(self):\n",
        "        \"\"\"Getter for the age attribute.\"\"\"\n",
        "        print(\"Retrieving age...\")  # Encapsulation: You can add logic here.\n",
        "        return self._age\n",
        "\n",
        "    @age.setter\n",
        "    def age(self, new_age):\n",
        "        \"\"\"Setter for the age attribute.\"\"\"\n",
        "        if isinstance(new_age, int) and 0 <= new_age <= 120:  # Encapsulation: Validation logic.\n",
        "            print(\"Setting age...\")\n",
        "            self._age = new_age\n",
        "        else:\n",
        "            print(\"Invalid age. Age must be an integer between 0 and 120.\")\n",
        "\n",
        "    @property\n",
        "    def name(self):\n",
        "        return self._name\n",
        "\n",
        "# Example usage\n",
        "person = Person(\"Alice\", 30)\n",
        "\n",
        "print(person.age)  # Accessing age using the getter method (looks like attribute access)\n",
        "person.age = 35   # Modifying age using the setter method\n",
        "print(person.age)  # Accessing age using the getter method\n",
        "\n",
        "person.age = -5 # Attempting invalid age\n",
        "print(person.age)\n",
        "\n",
        "person.name\n"
      ],
      "metadata": {
        "id": "pTzemrfgHZiG",
        "colab": {
          "base_uri": "https://localhost:8080/",
          "height": 174
        },
        "outputId": "696007e6-c2fc-4aa9-8085-b563df86cead"
      },
      "execution_count": 24,
      "outputs": [
        {
          "output_type": "stream",
          "name": "stdout",
          "text": [
            "Retrieving age...\n",
            "30\n",
            "Setting age...\n",
            "Retrieving age...\n",
            "35\n",
            "Invalid age. Age must be an integer between 0 and 120.\n",
            "Retrieving age...\n",
            "35\n"
          ]
        },
        {
          "output_type": "execute_result",
          "data": {
            "text/plain": [
              "'Alice'"
            ],
            "application/vnd.google.colaboratory.intrinsic+json": {
              "type": "string"
            }
          },
          "metadata": {},
          "execution_count": 24
        }
      ]
    }
  ],
  "metadata": {
    "colab": {
      "provenance": []
    },
    "kernelspec": {
      "display_name": "Python 3",
      "name": "python3"
    },
    "language_info": {
      "name": "python"
    }
  },
  "nbformat": 4,
  "nbformat_minor": 0
}